{
 "cells": [
  {
   "cell_type": "markdown",
   "metadata": {},
   "source": [
    "### Anonymous Function or Functional Programming:\n",
    "##### Lambda -> anonymous function(keyword doesn't use in this function creation):\n",
    "- It can be applicable for all mathematical expressions\n",
    "- Lambda can't use def keyword.\n",
    "- It can be used in large applications to reduce the code.\n",
    "- It can be implemented to a comprehension or looping.\n",
    "- It can be divided into 3 types:\n",
    "    - map\n",
    "    - filter \n",
    "    - reduce"
   ]
  },
  {
   "cell_type": "markdown",
   "metadata": {},
   "source": [
    "function syntax:\n",
    "~~~~~~~~~~~~~~~\n",
    "def function_name(arguments):\n",
    "    '''function doc_string'''\n",
    "    //statements\n",
    "    return return_value\n",
    "\n",
    "\n",
    "Lambda syntax:\n",
    "~~~~~~~~~~~~~~\n",
    "    lambda arguments:expression"
   ]
  },
  {
   "cell_type": "code",
   "execution_count": 5,
   "metadata": {},
   "outputs": [
    {
     "name": "stdout",
     "output_type": "stream",
     "text": [
      "4\n",
      "6\n",
      "10\n"
     ]
    }
   ],
   "source": [
    "def add(a,b):\n",
    "    return a+b\n",
    "m=int(input())\n",
    "n=int(input())\n",
    "print(add(m,n))"
   ]
  },
  {
   "cell_type": "code",
   "execution_count": 6,
   "metadata": {},
   "outputs": [
    {
     "name": "stdout",
     "output_type": "stream",
     "text": [
      "7\n"
     ]
    }
   ],
   "source": [
    "d=lambda a,b:a+b\n",
    "print(d(2,5))"
   ]
  },
  {
   "cell_type": "code",
   "execution_count": 7,
   "metadata": {},
   "outputs": [
    {
     "name": "stdout",
     "output_type": "stream",
     "text": [
      "2\n",
      "1\n",
      "9\n"
     ]
    }
   ],
   "source": [
    "d=lambda a,b:a**2+b**2+2*a*b    # (a+b)2\n",
    "print(d(int(input()),int(input())))"
   ]
  },
  {
   "cell_type": "markdown",
   "metadata": {},
   "source": [
    "##### Map:\n",
    "   - syntax:->\n",
    "   map(function,iterator)\n",
    "   - It can be used to change the data type of an iterator\n",
    "   - It outputs either true or false"
   ]
  },
  {
   "cell_type": "code",
   "execution_count": 9,
   "metadata": {},
   "outputs": [
    {
     "name": "stdout",
     "output_type": "stream",
     "text": [
      "3 4 7 8 9\n",
      "[3, 4, 7, 8, 9]\n"
     ]
    }
   ],
   "source": [
    "s=input().split()\n",
    "r=[]\n",
    "for i in s:\n",
    "    r.append(int(i))\n",
    "print(r)"
   ]
  },
  {
   "cell_type": "code",
   "execution_count": 11,
   "metadata": {},
   "outputs": [
    {
     "name": "stdout",
     "output_type": "stream",
     "text": [
      "3 4 7 8 9\n",
      "[3, 4, 7, 8, 9]\n"
     ]
    }
   ],
   "source": [
    "t=input().split()\n",
    "print(list(map(int,t)))"
   ]
  },
  {
   "cell_type": "code",
   "execution_count": 12,
   "metadata": {},
   "outputs": [
    {
     "name": "stdout",
     "output_type": "stream",
     "text": [
      "[True, False, True, False, True, False]\n"
     ]
    }
   ],
   "source": [
    "y=[6,3,6,3,6,3]\n",
    "r=list(map(lambda s:s%2==0,y))\n",
    "print(r)"
   ]
  },
  {
   "cell_type": "code",
   "execution_count": 6,
   "metadata": {},
   "outputs": [
    {
     "name": "stdout",
     "output_type": "stream",
     "text": [
      "4 5 6 7\n",
      "[True, False, True, False]\n"
     ]
    }
   ],
   "source": [
    "def mlt(u):\n",
    "    s=[]\n",
    "    for p in u:\n",
    "        if p%2==0:\n",
    "            s.append(True)\n",
    "        else:\n",
    "            s.append(False)\n",
    "    return s\n",
    "    \n",
    "r=list(map(int,input().split()))\n",
    "print(mlt(r))"
   ]
  },
  {
   "cell_type": "code",
   "execution_count": 3,
   "metadata": {},
   "outputs": [
    {
     "name": "stdout",
     "output_type": "stream",
     "text": [
      "3 4 6 8 9\n",
      "[True, False, True, False, True]\n"
     ]
    }
   ],
   "source": [
    "# 3 multiples\n",
    "def tml(h):\n",
    "    return h%3==0\n",
    "e=input().split()\n",
    "q=[]\n",
    "for m in e:\n",
    "    q.append(int(m))\n",
    "print(list(map(tml,q)))"
   ]
  },
  {
   "cell_type": "code",
   "execution_count": 5,
   "metadata": {},
   "outputs": [
    {
     "name": "stdout",
     "output_type": "stream",
     "text": [
      "3 4 5 6\n",
      "[True, False, False, True]\n"
     ]
    }
   ],
   "source": [
    "print(list(map(lambda t:t%3==0,map(int,input().split()))))"
   ]
  },
  {
   "cell_type": "markdown",
   "metadata": {},
   "source": [
    "##### Filter:\n",
    "- It prints only True values to an iterator\n",
    "- syntax:\n",
    "    ->filter(functionname,iterator)"
   ]
  },
  {
   "cell_type": "code",
   "execution_count": 7,
   "metadata": {},
   "outputs": [
    {
     "name": "stdout",
     "output_type": "stream",
     "text": [
      "3 4 5 6\n",
      "[3, 6]\n"
     ]
    }
   ],
   "source": [
    "def tmul(v):\n",
    "    return v%3==0\n",
    "j=list(map(int,input().split()))\n",
    "print(list(filter(tmul,j)))"
   ]
  },
  {
   "cell_type": "code",
   "execution_count": 8,
   "metadata": {},
   "outputs": [
    {
     "name": "stdout",
     "output_type": "stream",
     "text": [
      "3 4 5 6 7\n",
      "[3, 6]\n"
     ]
    }
   ],
   "source": [
    "print(list(filter(lambda a:a%3==0,map(int,input().split()))))"
   ]
  },
  {
   "cell_type": "code",
   "execution_count": 11,
   "metadata": {},
   "outputs": [
    {
     "name": "stdout",
     "output_type": "stream",
     "text": [
      "2 4 7 5 4 3 6 4\n",
      "[4, 4, 4]\n"
     ]
    }
   ],
   "source": [
    "print(list(filter(lambda a:a==4,map(int,input().split()))))"
   ]
  },
  {
   "cell_type": "code",
   "execution_count": 24,
   "metadata": {},
   "outputs": [
    {
     "name": "stdout",
     "output_type": "stream",
     "text": [
      "2 4 6 678 17\n",
      "[2, 4, 6]\n"
     ]
    }
   ],
   "source": [
    "al=list(filter(lambda a:a<20,map(int,input().split())))\n",
    "print(list(filter(lambda r:r<10,al)))"
   ]
  },
  {
   "cell_type": "markdown",
   "metadata": {},
   "source": [
    "##### reduce:\n",
    "    - It prints or else it returns only single value\n",
    "    - syntax:\n",
    "        reduce(functionname,iterator)\n",
    "    - It can be accessible by using import statement of functools"
   ]
  },
  {
   "cell_type": "code",
   "execution_count": 32,
   "metadata": {},
   "outputs": [
    {
     "name": "stdout",
     "output_type": "stream",
     "text": [
      "24 36 1 100 5\n",
      "[24, 36, 100]\n",
      "160\n"
     ]
    }
   ],
   "source": [
    "from functools import reduce\n",
    "r= list(filter(lambda f:f>20,map(int,input().split())))\n",
    "print(r)\n",
    "print(reduce(lambda x,y:x+y,r))"
   ]
  },
  {
   "cell_type": "code",
   "execution_count": 35,
   "metadata": {},
   "outputs": [
    {
     "name": "stdout",
     "output_type": "stream",
     "text": [
      "24 36 1 100 5\n",
      "160\n"
     ]
    }
   ],
   "source": [
    "print(reduce(lambda x,y:x+y,filter(lambda f:f>20,map(int,input().split()))))"
   ]
  },
  {
   "cell_type": "code",
   "execution_count": null,
   "metadata": {},
   "outputs": [],
   "source": []
  }
 ],
 "metadata": {
  "kernelspec": {
   "display_name": "Python 3",
   "language": "python",
   "name": "python3"
  },
  "language_info": {
   "codemirror_mode": {
    "name": "ipython",
    "version": 3
   },
   "file_extension": ".py",
   "mimetype": "text/x-python",
   "name": "python",
   "nbconvert_exporter": "python",
   "pygments_lexer": "ipython3",
   "version": "3.7.4"
  }
 },
 "nbformat": 4,
 "nbformat_minor": 4
}
