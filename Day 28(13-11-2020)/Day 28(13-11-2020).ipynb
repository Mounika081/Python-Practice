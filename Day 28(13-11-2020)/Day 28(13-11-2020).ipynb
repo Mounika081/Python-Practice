{
 "cells": [
  {
   "cell_type": "markdown",
   "metadata": {},
   "source": [
    "## Packages and Modules\n",
    "### Package:\n",
    "- Package is a folder\n",
    "- Package is a collection of modules\n",
    "#### Modules:\n",
    "- module is a file which is .py file\n",
    "- Two types:\n",
    "    - predefined module\n",
    "    - userdefined module\n",
    "##### To import packages we use \"import\" keyword."
   ]
  },
  {
   "cell_type": "code",
   "execution_count": null,
   "metadata": {},
   "outputs": [
    {
     "name": "stdout",
     "output_type": "stream",
     "text": [
      "\n",
      "Welcome to Python 3.7's help utility!\n",
      "\n",
      "If this is your first time using Python, you should definitely check out\n",
      "the tutorial on the Internet at https://docs.python.org/3.7/tutorial/.\n",
      "\n",
      "Enter the name of any module, keyword, or topic to get help on writing\n",
      "Python programs and using Python modules.  To quit this help utility and\n",
      "return to the interpreter, just type \"quit\".\n",
      "\n",
      "To get a list of available modules, keywords, symbols, or topics, type\n",
      "\"modules\", \"keywords\", \"symbols\", or \"topics\".  Each module also comes\n",
      "with a one-line summary of what it does; to list the modules whose name\n",
      "or summary contain a given string such as \"spam\", type \"modules spam\".\n",
      "\n",
      "help> modules\n",
      "\n",
      "Please wait a moment while I gather a list of all available modules...\n",
      "\n"
     ]
    },
    {
     "name": "stderr",
     "output_type": "stream",
     "text": [
      "c:\\users\\user\\appdata\\local\\programs\\python\\python37\\lib\\site-packages\\IPython\\kernel\\__init__.py:13: ShimWarning: The `IPython.kernel` package has been deprecated since IPython 4.0.You should import from ipykernel or jupyter_client instead.\n",
      "  \"You should import from ipykernel or jupyter_client instead.\", ShimWarning)\n",
      "c:\\users\\user\\appdata\\local\\programs\\python\\python37\\lib\\pkgutil.py:107: VisibleDeprecationWarning: zmq.eventloop.minitornado is deprecated in pyzmq 14.0 and will be removed.\n",
      "    Install tornado itself to use zmq with the tornado IOLoop.\n",
      "    \n",
      "  yield from walk_packages(path, info.name+'.', onerror)\n"
     ]
    },
    {
     "name": "stdout",
     "output_type": "stream",
     "text": [
      "IPython             bz2                 mmsystem            symbol\n",
      "__future__          cProfile            modulefinder        sympyprinting\n",
      "_abc                calendar            msilib              symtable\n",
      "_ast                cffi                msvcrt              sys\n",
      "_asyncio            cgi                 multiprocessing     sysconfig\n",
      "_bisect             cgitb               nbclient            tabnanny\n",
      "_blake2             chunk               nbconvert           tarfile\n",
      "_bootlocale         cmath               nbformat            telnetlib\n",
      "_bz2                cmd                 nest_asyncio        tempfile\n",
      "_cffi_backend       code                netbios             terminado\n",
      "_codecs             codecs              netrc               test\n",
      "_codecs_cn          codeop              nntplib             testpath\n",
      "_codecs_hk          collections         notebook            tests\n",
      "_codecs_iso2022     colorama            nt                  textwrap\n",
      "_codecs_jp          colorsys            ntpath              this\n",
      "_codecs_kr          commctrl            ntsecuritycon       threading\n",
      "_codecs_tw          compileall          nturl2path          time\n",
      "_collections        concurrent          numbers             timeit\n",
      "_collections_abc    configparser        odbc                timer\n",
      "_compat_pickle      contextlib          opcode              tkinter\n",
      "_compression        contextvars         operator            token\n",
      "_contextvars        copy                optparse            tokenize\n",
      "_csv                copyreg             os                  tornado\n",
      "_ctypes             crypt               packaging           trace\n",
      "_ctypes_test        csv                 pandocfilters       traceback\n",
      "_datetime           ctypes              parser              tracemalloc\n",
      "_decimal            curses              parso               traitlets\n",
      "_dummy_thread       cythonmagic         pathlib             tty\n",
      "_elementtree        dataclasses         pdb                 turtle\n",
      "_functools          datetime            perfmon             turtledemo\n",
      "_hashlib            dateutil            pickle              types\n",
      "_heapq              dbi                 pickleshare         typing\n",
      "_imp                dbm                 pickletools         unicodedata\n",
      "_io                 dde                 pip                 unittest\n",
      "_json               decimal             pipes               urllib\n",
      "_locale             decorator           pkg_resources       uu\n",
      "_lsprof             defusedxml          pkgutil             uuid\n",
      "_lzma               difflib             platform            venv\n",
      "_markupbase         dis                 plistlib            warnings\n",
      "_md5                distutils           poplib              wave\n",
      "_msi                doctest             posixpath           wcwidth\n",
      "_multibytecodec     dummy_threading     pprint              weakref\n",
      "_multiprocessing    easy_install        profile             webbrowser\n",
      "_opcode             email               prometheus_client   webencodings\n",
      "_operator           encodings           prompt_toolkit      widgetsnbextension\n",
      "_osx_support        ensurepip           pstats              win2kras\n",
      "_overlapped         entrypoints         pty                 win32api\n",
      "_pickle             enum                py_compile          win32clipboard\n",
      "_py_abc             errno               pyclbr              win32com\n",
      "_pydecimal          faulthandler        pycparser           win32con\n",
      "_pyio               filecmp             pydoc               win32console\n",
      "_pyrsistent_version fileinput           pydoc_data          win32cred\n",
      "_queue              fnmatch             pyexpat             win32crypt\n",
      "_random             formatter           pygments            win32cryptcon\n",
      "_sha1               fractions           pyparsing           win32event\n",
      "_sha256             ftplib              pyrsistent          win32evtlog\n",
      "_sha3               functools           pythoncom           win32evtlogutil\n",
      "_sha512             gc                  pywin               win32file\n",
      "_signal             genericpath         pywin32_bootstrap   win32gui\n",
      "_sitebuiltins       getopt              pywin32_testutil    win32gui_struct\n",
      "_socket             getpass             pywintypes          win32help\n",
      "_sqlite3            gettext             qtconsole           win32inet\n",
      "_sre                glob                qtpy                win32inetcon\n",
      "_ssl                gzip                queue               win32job\n",
      "_stat               hashlib             quopri              win32lz\n",
      "_string             heapq               random              win32net\n",
      "_strptime           hmac                rasutil             win32netcon\n",
      "_struct             html                re                  win32pdh\n",
      "_symtable           http                regcheck            win32pdhquery\n",
      "_testbuffer         idlelib             regutil             win32pdhutil\n",
      "_testcapi           imaplib             reprlib             win32pipe\n",
      "_testconsole        imghdr              rlcompleter         win32print\n",
      "_testimportmultiple imp                 rmagic              win32process\n",
      "_testmultiphase     importlib           runpy               win32profile\n",
      "_thread             importlib_metadata  sample              win32ras\n",
      "_threading_local    inspect             sample2             win32rcparser\n",
      "_tkinter            io                  sched               win32security\n",
      "_tracemalloc        ipaddress           secrets             win32service\n",
      "_warnings           ipykernel           select              win32serviceutil\n",
      "_weakref            ipykernel_launcher  selectors           win32timezone\n",
      "_weakrefset         ipython_genutils    send2trash          win32trace\n",
      "_win32sysloader     ipywidgets          servicemanager      win32traceutil\n",
      "_winapi             isapi               setuptools          win32transaction\n",
      "_winxptheme         itertools           shelve              win32ts\n",
      "abc                 jedi                shlex               win32ui\n",
      "adodbapi            jinja2              shutil              win32uiole\n",
      "afxres              json                signal              win32verstamp\n",
      "aifc                jsonschema          site                win32wnet\n",
      "antigravity         jupyter             six                 winerror\n",
      "argon2              jupyter_client      smtpd               winioctlcon\n",
      "argparse            jupyter_console     smtplib             winnt\n",
      "array               jupyter_core        sndhdr              winperf\n",
      "ast                 jupyterlab_pygments socket              winpty\n",
      "async_generator     keyword             socketserver        winreg\n",
      "asynchat            lib2to3             sqlite3             winsound\n",
      "asyncio             linecache           sre_compile         winxpgui\n",
      "asyncore            locale              sre_constants       winxptheme\n",
      "atexit              logging             sre_parse           wsgiref\n",
      "attr                lzma                ssl                 xdrlib\n",
      "audioop             macpath             sspi                xml\n",
      "autoreload          mailbox             sspicon             xmlrpc\n",
      "backcall            mailcap             stat                xxsubtype\n",
      "base64              markupsafe          statistics          zipapp\n",
      "bdb                 marshal             storemagic          zipfile\n",
      "binascii            math                string              zipimport\n",
      "binhex              mimetypes           stringprep          zipp\n",
      "bisect              mistune             struct              zlib\n",
      "bleach              mmap                subprocess          zmq\n",
      "builtins            mmapfile            sunau               \n",
      "\n",
      "Enter any module name to get more help.  Or, type \"modules spam\" to search\n",
      "for modules whose name or summary contain the string \"spam\".\n",
      "\n"
     ]
    }
   ],
   "source": [
    "help()"
   ]
  },
  {
   "cell_type": "code",
   "execution_count": 1,
   "metadata": {},
   "outputs": [
    {
     "name": "stdout",
     "output_type": "stream",
     "text": [
      "['__doc__', '__loader__', '__name__', '__package__', '__spec__', 'acos', 'acosh', 'asin', 'asinh', 'atan', 'atan2', 'atanh', 'ceil', 'copysign', 'cos', 'cosh', 'degrees', 'e', 'erf', 'erfc', 'exp', 'expm1', 'fabs', 'factorial', 'floor', 'fmod', 'frexp', 'fsum', 'gamma', 'gcd', 'hypot', 'inf', 'isclose', 'isfinite', 'isinf', 'isnan', 'ldexp', 'lgamma', 'log', 'log10', 'log1p', 'log2', 'modf', 'nan', 'pi', 'pow', 'radians', 'remainder', 'sin', 'sinh', 'sqrt', 'tan', 'tanh', 'tau', 'trunc']\n"
     ]
    }
   ],
   "source": [
    "import math\n",
    "print(dir(math))"
   ]
  },
  {
   "cell_type": "code",
   "execution_count": 2,
   "metadata": {},
   "outputs": [
    {
     "data": {
      "text/plain": [
       "'This module provides access to the mathematical functions\\ndefined by the C standard.'"
      ]
     },
     "execution_count": 2,
     "metadata": {},
     "output_type": "execute_result"
    }
   ],
   "source": [
    "math.__doc__"
   ]
  },
  {
   "cell_type": "code",
   "execution_count": 3,
   "metadata": {},
   "outputs": [
    {
     "data": {
      "text/plain": [
       "8.0"
      ]
     },
     "execution_count": 3,
     "metadata": {},
     "output_type": "execute_result"
    }
   ],
   "source": [
    "math.pow(2,3)"
   ]
  },
  {
   "cell_type": "code",
   "execution_count": 4,
   "metadata": {},
   "outputs": [
    {
     "data": {
      "text/plain": [
       "120"
      ]
     },
     "execution_count": 4,
     "metadata": {},
     "output_type": "execute_result"
    }
   ],
   "source": [
    "math.factorial(5)"
   ]
  },
  {
   "cell_type": "code",
   "execution_count": 6,
   "metadata": {},
   "outputs": [
    {
     "data": {
      "text/plain": [
       "3.141592653589793"
      ]
     },
     "execution_count": 6,
     "metadata": {},
     "output_type": "execute_result"
    }
   ],
   "source": [
    "math.pi"
   ]
  },
  {
   "cell_type": "code",
   "execution_count": 9,
   "metadata": {},
   "outputs": [],
   "source": [
    "import Package.mymath"
   ]
  },
  {
   "cell_type": "markdown",
   "metadata": {},
   "source": [
    "##### User defined modules"
   ]
  },
  {
   "cell_type": "code",
   "execution_count": 10,
   "metadata": {},
   "outputs": [
    {
     "data": {
      "text/plain": [
       "['__doc__',\n",
       " '__file__',\n",
       " '__loader__',\n",
       " '__name__',\n",
       " '__package__',\n",
       " '__path__',\n",
       " '__spec__',\n",
       " 'mymath']"
      ]
     },
     "execution_count": 10,
     "metadata": {},
     "output_type": "execute_result"
    }
   ],
   "source": [
    "dir(Package)"
   ]
  },
  {
   "cell_type": "markdown",
   "metadata": {},
   "source": [
    "- 1.importing module from package\n",
    "        -> from package import mymath\n",
    "- 2.importing all modules from package\n",
    "        -> from package import *\n",
    "- 3.importing one or two modules from package\n",
    "        -> from package import mymath,mymath1,mymath3"
   ]
  },
  {
   "cell_type": "code",
   "execution_count": 6,
   "metadata": {},
   "outputs": [],
   "source": [
    "from Package import mymath"
   ]
  },
  {
   "cell_type": "code",
   "execution_count": 11,
   "metadata": {},
   "outputs": [
    {
     "data": {
      "text/plain": [
       "['__builtins__',\n",
       " '__cached__',\n",
       " '__doc__',\n",
       " '__file__',\n",
       " '__loader__',\n",
       " '__name__',\n",
       " '__package__',\n",
       " '__spec__',\n",
       " 'add',\n",
       " 'mul',\n",
       " 'sub']"
      ]
     },
     "execution_count": 11,
     "metadata": {},
     "output_type": "execute_result"
    }
   ],
   "source": [
    "dir(mymath)"
   ]
  },
  {
   "cell_type": "code",
   "execution_count": 12,
   "metadata": {},
   "outputs": [
    {
     "data": {
      "text/plain": [
       "70"
      ]
     },
     "execution_count": 12,
     "metadata": {},
     "output_type": "execute_result"
    }
   ],
   "source": [
    "mymath.add(23,47)"
   ]
  },
  {
   "cell_type": "code",
   "execution_count": 18,
   "metadata": {},
   "outputs": [],
   "source": [
    "# importing functions\n",
    "from Package.mymath import add,mul,sub"
   ]
  },
  {
   "cell_type": "code",
   "execution_count": 17,
   "metadata": {},
   "outputs": [
    {
     "data": {
      "text/plain": [
       "50"
      ]
     },
     "execution_count": 17,
     "metadata": {},
     "output_type": "execute_result"
    }
   ],
   "source": [
    "add(14,36)"
   ]
  },
  {
   "cell_type": "code",
   "execution_count": 19,
   "metadata": {},
   "outputs": [
    {
     "data": {
      "text/plain": [
       "0"
      ]
     },
     "execution_count": 19,
     "metadata": {},
     "output_type": "execute_result"
    }
   ],
   "source": [
    "sub(53,53)"
   ]
  },
  {
   "cell_type": "code",
   "execution_count": 20,
   "metadata": {},
   "outputs": [
    {
     "data": {
      "text/plain": [
       "12"
      ]
     },
     "execution_count": 20,
     "metadata": {},
     "output_type": "execute_result"
    }
   ],
   "source": [
    "mul(3,4)"
   ]
  },
  {
   "cell_type": "code",
   "execution_count": 2,
   "metadata": {},
   "outputs": [
    {
     "data": {
      "text/plain": [
       "['__class__',\n",
       " '__delattr__',\n",
       " '__dict__',\n",
       " '__dir__',\n",
       " '__doc__',\n",
       " '__eq__',\n",
       " '__format__',\n",
       " '__ge__',\n",
       " '__getattribute__',\n",
       " '__gt__',\n",
       " '__hash__',\n",
       " '__init__',\n",
       " '__init_subclass__',\n",
       " '__le__',\n",
       " '__lt__',\n",
       " '__module__',\n",
       " '__ne__',\n",
       " '__new__',\n",
       " '__reduce__',\n",
       " '__reduce_ex__',\n",
       " '__repr__',\n",
       " '__setattr__',\n",
       " '__sizeof__',\n",
       " '__str__',\n",
       " '__subclasshook__',\n",
       " '__weakref__',\n",
       " 'add',\n",
       " 'mul',\n",
       " 'power',\n",
       " 'sub']"
      ]
     },
     "execution_count": 2,
     "metadata": {},
     "output_type": "execute_result"
    }
   ],
   "source": [
    "from Package.mymath import Arith as Ar\n",
    "dir(Ar)"
   ]
  },
  {
   "cell_type": "code",
   "execution_count": 4,
   "metadata": {},
   "outputs": [
    {
     "data": {
      "text/plain": [
       "5"
      ]
     },
     "execution_count": 4,
     "metadata": {},
     "output_type": "execute_result"
    }
   ],
   "source": [
    "obj=Ar\n",
    "obj.add(1, 4)"
   ]
  },
  {
   "cell_type": "code",
   "execution_count": 5,
   "metadata": {},
   "outputs": [
    {
     "data": {
      "text/plain": [
       "-3"
      ]
     },
     "execution_count": 5,
     "metadata": {},
     "output_type": "execute_result"
    }
   ],
   "source": [
    "obj.sub(1, 4)"
   ]
  },
  {
   "cell_type": "code",
   "execution_count": 6,
   "metadata": {},
   "outputs": [
    {
     "data": {
      "text/plain": [
       "4"
      ]
     },
     "execution_count": 6,
     "metadata": {},
     "output_type": "execute_result"
    }
   ],
   "source": [
    "obj.mul(1, 4)"
   ]
  },
  {
   "cell_type": "code",
   "execution_count": 7,
   "metadata": {},
   "outputs": [
    {
     "data": {
      "text/plain": [
       "16"
      ]
     },
     "execution_count": 7,
     "metadata": {},
     "output_type": "execute_result"
    }
   ],
   "source": [
    "obj.power(2, 4)"
   ]
  },
  {
   "cell_type": "markdown",
   "metadata": {},
   "source": [
    "### Inheritance:\n",
    "- deriving new class from already existing class\n",
    "- aquiring properties from base class to derived class\n",
    "- code reusability and readability\n",
    "- Types of Inheritance:\n",
    "    - single\n",
    "    - multiple\n",
    "    - hybrid\n",
    "    - heirarchical\n",
    "    - multilevel\n"
   ]
  },
  {
   "cell_type": "code",
   "execution_count": 20,
   "metadata": {},
   "outputs": [],
   "source": [
    "class A:\n",
    "    name1 = \"A\"\n",
    "    age1 = 10\n",
    "    def msg():\n",
    "        print(\"I am from class A\")\n",
    "class C:\n",
    "    name = \"C\"\n",
    "    age2 = 15\n",
    "    def msg2():\n",
    "        print(\"I am from class C\")\n",
    "        \n",
    "class B(A,C):\n",
    "    name2 = \"B\"\n",
    "    age = 5\n",
    "    def msg1():\n",
    "        print(\"I am from class B\")\n",
    "        "
   ]
  },
  {
   "cell_type": "code",
   "execution_count": 22,
   "metadata": {},
   "outputs": [],
   "source": [
    "obj = B"
   ]
  },
  {
   "cell_type": "code",
   "execution_count": 12,
   "metadata": {},
   "outputs": [
    {
     "data": {
      "text/plain": [
       "'A'"
      ]
     },
     "execution_count": 12,
     "metadata": {},
     "output_type": "execute_result"
    }
   ],
   "source": [
    "obj.name1"
   ]
  },
  {
   "cell_type": "code",
   "execution_count": 13,
   "metadata": {},
   "outputs": [
    {
     "name": "stdout",
     "output_type": "stream",
     "text": [
      "I am from class A\n"
     ]
    }
   ],
   "source": [
    "obj.msg()"
   ]
  },
  {
   "cell_type": "code",
   "execution_count": 14,
   "metadata": {},
   "outputs": [
    {
     "name": "stdout",
     "output_type": "stream",
     "text": [
      "I am from class B\n"
     ]
    }
   ],
   "source": [
    "obj.msg1()"
   ]
  },
  {
   "cell_type": "code",
   "execution_count": 15,
   "metadata": {},
   "outputs": [
    {
     "data": {
      "text/plain": [
       "5"
      ]
     },
     "execution_count": 15,
     "metadata": {},
     "output_type": "execute_result"
    }
   ],
   "source": [
    "obj.age"
   ]
  },
  {
   "cell_type": "code",
   "execution_count": 23,
   "metadata": {},
   "outputs": [
    {
     "data": {
      "text/plain": [
       "'B'"
      ]
     },
     "execution_count": 23,
     "metadata": {},
     "output_type": "execute_result"
    }
   ],
   "source": [
    "obj.name2"
   ]
  },
  {
   "cell_type": "code",
   "execution_count": null,
   "metadata": {},
   "outputs": [],
   "source": []
  }
 ],
 "metadata": {
  "kernelspec": {
   "display_name": "Python 3",
   "language": "python",
   "name": "python3"
  },
  "language_info": {
   "codemirror_mode": {
    "name": "ipython",
    "version": 3
   },
   "file_extension": ".py",
   "mimetype": "text/x-python",
   "name": "python",
   "nbconvert_exporter": "python",
   "pygments_lexer": "ipython3",
   "version": "3.7.4"
  }
 },
 "nbformat": 4,
 "nbformat_minor": 4
}
