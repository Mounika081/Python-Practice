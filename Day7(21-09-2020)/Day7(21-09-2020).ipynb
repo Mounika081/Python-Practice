{
 "cells": [
  {
   "cell_type": "markdown",
   "metadata": {},
   "source": [
    "## Functions\n",
    "- It is set of statements\n",
    "- Used to perform a particular task\n",
    "- Reusability of code\n",
    "- we can pass arguments and we can return result\n",
    "- Here we have 2 different types\n",
    "    - userdefined functions\n",
    "    - predefined functions\n",
    "#### User Defined function:\n",
    "    - user can define his own functionality\n",
    "    - syntax:\n",
    "    \n",
    "            ```def function_name(param1,param2,...):\n",
    "                  # body of the loop```\n",
    "    - We can implement this  User Defined functions in 4 different way\n",
    "    -Those are:\n",
    "        - without arguments and without return value.\n",
    "        - without arguments and with return value.\n",
    "        - with arguments and without return value.\n",
    "        - with arguments and with return value."
   ]
  },
  {
   "cell_type": "code",
   "execution_count": 1,
   "metadata": {},
   "outputs": [],
   "source": [
    "# without arguments and without return value.\n",
    "def hello():\n",
    "    print(\"hi,i am from hello()\")"
   ]
  },
  {
   "cell_type": "code",
   "execution_count": 2,
   "metadata": {},
   "outputs": [
    {
     "name": "stdout",
     "output_type": "stream",
     "text": [
      "hi,i am from hello()\n"
     ]
    }
   ],
   "source": [
    "hello()"
   ]
  },
  {
   "cell_type": "code",
   "execution_count": 3,
   "metadata": {},
   "outputs": [],
   "source": [
    "# without arguments and with return value.\n",
    "def hello1():\n",
    "    return 'i am from hello1'"
   ]
  },
  {
   "cell_type": "code",
   "execution_count": 4,
   "metadata": {},
   "outputs": [
    {
     "data": {
      "text/plain": [
       "'i am from hello1'"
      ]
     },
     "execution_count": 4,
     "metadata": {},
     "output_type": "execute_result"
    }
   ],
   "source": [
    "hello1()"
   ]
  },
  {
   "cell_type": "code",
   "execution_count": 5,
   "metadata": {},
   "outputs": [],
   "source": [
    "# with arguments and without return value.\n",
    "def add(n1,n2):\n",
    "    print('sum of n1 and n2 is:',n1+n2)\n",
    "    "
   ]
  },
  {
   "cell_type": "code",
   "execution_count": 6,
   "metadata": {},
   "outputs": [
    {
     "name": "stdout",
     "output_type": "stream",
     "text": [
      "sum of n1 and n2 is: 100\n"
     ]
    }
   ],
   "source": [
    "add(45,55)"
   ]
  },
  {
   "cell_type": "code",
   "execution_count": 7,
   "metadata": {},
   "outputs": [],
   "source": [
    "# with argument and with return value.\n",
    "def mul(x1,x2):\n",
    "    return x1*x2"
   ]
  },
  {
   "cell_type": "code",
   "execution_count": 11,
   "metadata": {},
   "outputs": [
    {
     "name": "stdout",
     "output_type": "stream",
     "text": [
      "mul of n1 and n2 is: 20\n"
     ]
    }
   ],
   "source": [
    "n1,n2=5,4\n",
    "rs=mul(n1,n2)\n",
    "print('mul of n1 and n2 is:',rs)"
   ]
  },
  {
   "cell_type": "code",
   "execution_count": 16,
   "metadata": {},
   "outputs": [],
   "source": [
    "def add(x1,x2):\n",
    "    return x1+x2\n",
    "def sub(x1,x2):\n",
    "    return x1-x2\n",
    "def mul(x1,x2):\n",
    "    return x1*x2\n",
    "def div(x1,x2):\n",
    "    return x1/x2\n",
    "def mod(x1,x2):\n",
    "    return x1%x2"
   ]
  },
  {
   "cell_type": "code",
   "execution_count": 18,
   "metadata": {},
   "outputs": [
    {
     "name": "stdout",
     "output_type": "stream",
     "text": [
      "enter n1 value: 2\n",
      "enter n1 value: 3\n",
      "add of n1 and n2 is: 5\n",
      "sub of n1 and n2 is: -1\n",
      "mul of n1 and n2 is: 6\n",
      "div of n1 and n2 is: 0.6666666666666666\n",
      "mod of n1 and n2 is: 2\n"
     ]
    }
   ],
   "source": [
    "n1=int(input(\"enter n1 value: \"))\n",
    "n2=int(input(\"enter n1 value: \"))\n",
    "rs1=add(n1,n2)\n",
    "print('add of n1 and n2 is:',rs1)\n",
    "rs2=sub(n1,n2)\n",
    "print('sub of n1 and n2 is:',rs2)\n",
    "rs3=mul(n1,n2)\n",
    "print('mul of n1 and n2 is:',rs3)\n",
    "rs4=div(n1,n2)\n",
    "print('div of n1 and n2 is:',rs4)\n",
    "rs5=mod(n1,n2)\n",
    "print('mod of n1 and n2 is:',rs5)"
   ]
  },
  {
   "cell_type": "markdown",
   "metadata": {},
   "source": [
    "### Predefined Functions\n",
    "- already implemented in programming\n",
    "- Pow,range,print,input,type,chr(),ord,help,abs,float,str,int etc.."
   ]
  },
  {
   "cell_type": "code",
   "execution_count": null,
   "metadata": {},
   "outputs": [],
   "source": []
  }
 ],
 "metadata": {
  "kernelspec": {
   "display_name": "Python 3",
   "language": "python",
   "name": "python3"
  },
  "language_info": {
   "codemirror_mode": {
    "name": "ipython",
    "version": 3
   },
   "file_extension": ".py",
   "mimetype": "text/x-python",
   "name": "python",
   "nbconvert_exporter": "python",
   "pygments_lexer": "ipython3",
   "version": "3.7.4"
  }
 },
 "nbformat": 4,
 "nbformat_minor": 4
}
