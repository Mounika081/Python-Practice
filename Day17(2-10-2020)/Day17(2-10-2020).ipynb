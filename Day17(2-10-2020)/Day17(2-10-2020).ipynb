{
 "cells": [
  {
   "cell_type": "code",
   "execution_count": 12,
   "metadata": {},
   "outputs": [
    {
     "name": "stdout",
     "output_type": "stream",
     "text": [
      "Enter the value: 324\n",
      "sum of digits:  9\n"
     ]
    }
   ],
   "source": [
    "# find the sum of digit  ex:123->1+2+3=6\n",
    "n=int(input(\"Enter the value: \"))\n",
    "sum=0\n",
    "while(n>0):\n",
    "    r=n%10\n",
    "    sum=sum+r\n",
    "    n=n//10\n",
    "print(\"sum of digits: \",sum)"
   ]
  },
  {
   "cell_type": "code",
   "execution_count": 18,
   "metadata": {},
   "outputs": [
    {
     "name": "stdout",
     "output_type": "stream",
     "text": [
      "Enter the value: 4675\n",
      "count of digits:  4\n"
     ]
    }
   ],
   "source": [
    "# count the no.of digits  ex:123->3\n",
    "n=int(input(\"Enter the value: \"))\n",
    "count=0\n",
    "while(n>0):        \n",
    "    r=n%10\n",
    "    count=count+1\n",
    "    n=n//10\n",
    "print(\"count of digits: \",count)"
   ]
  },
  {
   "cell_type": "code",
   "execution_count": 29,
   "metadata": {},
   "outputs": [
    {
     "name": "stdout",
     "output_type": "stream",
     "text": [
      "Enter the value: 34543\n",
      "34543 is a palindrome\n"
     ]
    }
   ],
   "source": [
    "# find the given number is palindrome or not\n",
    "n=int(input(\"Enter the value: \"))\n",
    "m=n\n",
    "c=0\n",
    "while(n>0):        \n",
    "    r=n%10\n",
    "    c=c*10+r\n",
    "    n=n//10\n",
    "if c==m:\n",
    "    print(m,\"is a palindrome\")\n",
    "else:\n",
    "    print(m,\"is not a palindrome\")"
   ]
  },
  {
   "cell_type": "code",
   "execution_count": 7,
   "metadata": {},
   "outputs": [
    {
     "name": "stdout",
     "output_type": "stream",
     "text": [
      "Enter the value: 31032003\n",
      "single digit of a give number:  3\n"
     ]
    }
   ],
   "source": [
    "# sum the given digit upto get single digit\n",
    "n=int(input(\"Enter the value: \"))\n",
    "sum=0\n",
    "while(n>0 or sum>9):\n",
    "    if(n==0):\n",
    "        n=sum\n",
    "        sum=0\n",
    "    r=n%10\n",
    "    sum=sum+r\n",
    "    n=n//10\n",
    "print(\"single digit of a give number: \",sum)"
   ]
  },
  {
   "cell_type": "code",
   "execution_count": 18,
   "metadata": {},
   "outputs": [
    {
     "name": "stdout",
     "output_type": "stream",
     "text": [
      "Enter the value: 153\n",
      "153 is amstrong\n"
     ]
    }
   ],
   "source": [
    "# find the given number is amstrong or not\n",
    "n=int(input(\"Enter the value: \"))\n",
    "l=len(str(n))\n",
    "m=n\n",
    "c=0\n",
    "while(n>0):        \n",
    "    r=n%10\n",
    "    c=c+pow(r,l)\n",
    "    n=n//10\n",
    "if c==m:\n",
    "    print(m,\"is amstrong\")\n",
    "else:\n",
    "    print(m,\"is not an amstrong\") "
   ]
  },
  {
   "cell_type": "code",
   "execution_count": null,
   "metadata": {},
   "outputs": [],
   "source": []
  }
 ],
 "metadata": {
  "kernelspec": {
   "display_name": "Python 3",
   "language": "python",
   "name": "python3"
  },
  "language_info": {
   "codemirror_mode": {
    "name": "ipython",
    "version": 3
   },
   "file_extension": ".py",
   "mimetype": "text/x-python",
   "name": "python",
   "nbconvert_exporter": "python",
   "pygments_lexer": "ipython3",
   "version": "3.7.4"
  }
 },
 "nbformat": 4,
 "nbformat_minor": 4
}
