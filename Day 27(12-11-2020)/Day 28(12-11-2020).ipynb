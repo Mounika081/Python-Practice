{
 "cells": [
  {
   "cell_type": "markdown",
   "metadata": {},
   "source": [
    "## OOPs(Object Oriented Programming System):\n",
    "- Here we will split a large program into sub parts.\n",
    "- The main use of oops is hiding data like packages.\n",
    "- It provides better security.\n",
    "### Properties:\n",
    "- Class\n",
    "- Object\n",
    "- Method\n",
    "- polymorphism\n",
    "- encapsulation\n",
    "- abstraction\n",
    "- inheritance\n"
   ]
  },
  {
   "cell_type": "markdown",
   "metadata": {},
   "source": [
    "## class:\n",
    "- Class is a blue print of object\n",
    "- Class is a collection of member variables(objects) and member functions(methods) \n",
    "- Syntax:\n",
    "```\n",
    "class class_name:\n",
    "    member variables\n",
    "    member functions\n",
    "```\n",
    "#### Rules for defining a class:\n",
    "- class name should starts with capital letter\n",
    "- should use a class keyword\n",
    "- should not contain spaces\n",
    "- the class name should not be started with numbers\n",
    "- can contain underscores"
   ]
  },
  {
   "cell_type": "markdown",
   "metadata": {},
   "source": [
    "### functions and methods\n",
    "- in oop functions are called as methods\n",
    "\n",
    "#### function:\n",
    "    ``` def add():\n",
    "           return 4+5'''\n",
    "\n",
    "#### method\n",
    "    ``` class Hello:\n",
    "           def add():\n",
    "              return 4+5```\n"
   ]
  },
  {
   "cell_type": "code",
   "execution_count": 8,
   "metadata": {},
   "outputs": [
    {
     "name": "stdout",
     "output_type": "stream",
     "text": [
      "mounika\n",
      "81\n",
      "i am from printInfo()\n"
     ]
    }
   ],
   "source": [
    "class MyInfo:\n",
    "    name=\"mounika\"\n",
    "    rollno=81\n",
    "    \n",
    "    def printInfo():\n",
    "        print(\"i am from printInfo()\")\n",
    "print(MyInfo.name)\n",
    "print(MyInfo.rollno)\n",
    "MyInfo.printInfo()"
   ]
  },
  {
   "cell_type": "markdown",
   "metadata": {},
   "source": [
    "## Object:\n",
    "- instance of a class\n",
    "- real time entity\n",
    "- Syntax:\n",
    "```\n",
    "    obj_name = class_name\n",
    "```"
   ]
  },
  {
   "cell_type": "code",
   "execution_count": 10,
   "metadata": {},
   "outputs": [
    {
     "name": "stdout",
     "output_type": "stream",
     "text": [
      "mounika\n",
      "81\n",
      "i am from printInfo()\n",
      "None\n"
     ]
    }
   ],
   "source": [
    "class MyInfo:\n",
    "    name=\"mounika\"\n",
    "    rollno=81\n",
    "    \n",
    "    def printInfo():\n",
    "        print(\"i am from printInfo()\")\n",
    "        \n",
    "obj=MyInfo\n",
    "print(obj.name)\n",
    "print(obj.rollno)\n",
    "print(obj.printInfo())"
   ]
  },
  {
   "cell_type": "code",
   "execution_count": 21,
   "metadata": {},
   "outputs": [
    {
     "name": "stdout",
     "output_type": "stream",
     "text": [
      "8\n",
      "\n",
      "    welcome to MyMath class\n",
      "    here we implemented add() for that you have to pass 2 parameters\n",
      "    \n"
     ]
    }
   ],
   "source": [
    "class MyMath:\n",
    "    '''\n",
    "    welcome to MyMath class\n",
    "    here we implemented add() for that you have to pass 2 parameters\n",
    "    '''\n",
    "    def add(n1 , n2):\n",
    "        return n1 + n2\n",
    "    \n",
    "obj = MyMath\n",
    "print(obj.add(5,3))\n",
    "print(obj.__doc__)"
   ]
  },
  {
   "cell_type": "code",
   "execution_count": 26,
   "metadata": {},
   "outputs": [
    {
     "name": "stdout",
     "output_type": "stream",
     "text": [
      "ADD= 9\n",
      "SUB= 3\n",
      "MUL= 18\n",
      "DIV= 2.0\n",
      "MOD= 0\n"
     ]
    }
   ],
   "source": [
    "class MyMath:\n",
    "    \n",
    "    def add(n1 , n2):\n",
    "        return n1 + n2\n",
    "    \n",
    "    def sub(n1 , n2):\n",
    "        return n1 - n2\n",
    "    \n",
    "    def mul(n1 , n2):\n",
    "        return n1 * n2\n",
    "    \n",
    "    def div(n1 , n2):\n",
    "        return n1 / n2\n",
    "    \n",
    "    def mod(n1 , n2):\n",
    "        return n1 % n2\n",
    "    \n",
    "obj = MyMath\n",
    "print(\"ADD=\",obj.add(6,3))\n",
    "print(\"SUB=\",obj.sub(6,3))\n",
    "print(\"MUL=\",obj.mul(6,3))\n",
    "print(\"DIV=\",obj.div(6,3))\n",
    "print(\"MOD=\",obj.mod(6,3))"
   ]
  },
  {
   "cell_type": "code",
   "execution_count": 31,
   "metadata": {},
   "outputs": [
    {
     "ename": "TypeError",
     "evalue": "add() takes 2 positional arguments but 3 were given",
     "output_type": "error",
     "traceback": [
      "\u001b[1;31m---------------------------------------------------------------------------\u001b[0m",
      "\u001b[1;31mTypeError\u001b[0m                                 Traceback (most recent call last)",
      "\u001b[1;32m<ipython-input-31-9072442629ef>\u001b[0m in \u001b[0;36m<module>\u001b[1;34m\u001b[0m\n\u001b[0;32m     14\u001b[0m \u001b[1;33m\u001b[0m\u001b[0m\n\u001b[0;32m     15\u001b[0m \u001b[0mobj\u001b[0m \u001b[1;33m=\u001b[0m \u001b[0mMyMath\u001b[0m\u001b[1;33m(\u001b[0m\u001b[1;33m)\u001b[0m\u001b[1;33m\u001b[0m\u001b[1;33m\u001b[0m\u001b[0m\n\u001b[1;32m---> 16\u001b[1;33m \u001b[0mprint\u001b[0m\u001b[1;33m(\u001b[0m\u001b[0mobj\u001b[0m\u001b[1;33m.\u001b[0m\u001b[0madd\u001b[0m\u001b[1;33m(\u001b[0m\u001b[1;36m5\u001b[0m\u001b[1;33m,\u001b[0m\u001b[1;36m3\u001b[0m\u001b[1;33m)\u001b[0m\u001b[1;33m)\u001b[0m\u001b[1;33m\u001b[0m\u001b[1;33m\u001b[0m\u001b[0m\n\u001b[0m\u001b[0;32m     17\u001b[0m \u001b[0mprint\u001b[0m\u001b[1;33m(\u001b[0m\u001b[0mobj\u001b[0m\u001b[1;33m.\u001b[0m\u001b[0msub\u001b[0m\u001b[1;33m(\u001b[0m\u001b[1;36m5\u001b[0m\u001b[1;33m,\u001b[0m\u001b[1;36m3\u001b[0m\u001b[1;33m)\u001b[0m\u001b[1;33m)\u001b[0m\u001b[1;33m\u001b[0m\u001b[1;33m\u001b[0m\u001b[0m\n\u001b[0;32m     18\u001b[0m \u001b[0mprint\u001b[0m\u001b[1;33m(\u001b[0m\u001b[0mobj\u001b[0m\u001b[1;33m.\u001b[0m\u001b[0mmul\u001b[0m\u001b[1;33m(\u001b[0m\u001b[1;36m5\u001b[0m\u001b[1;33m,\u001b[0m\u001b[1;36m3\u001b[0m\u001b[1;33m)\u001b[0m\u001b[1;33m)\u001b[0m\u001b[1;33m\u001b[0m\u001b[1;33m\u001b[0m\u001b[0m\n",
      "\u001b[1;31mTypeError\u001b[0m: add() takes 2 positional arguments but 3 were given"
     ]
    }
   ],
   "source": [
    "class MyMath():\n",
    "    '''\n",
    "    welcome to MyMath class\n",
    "    here we implemented add() for that you have to pass 2 parameters\n",
    "    '''\n",
    "    def add(n1 , n2):\n",
    "        return n1 + n2\n",
    "    \n",
    "    def sub(n1 , n2):\n",
    "        return n1 - n2\n",
    "    \n",
    "    def mul(n1 , n2):\n",
    "        return n1 * n2\n",
    "    \n",
    "obj = MyMath()\n",
    "print(obj.add(5,3))\n",
    "print(obj.sub(5,3))\n",
    "print(obj.mul(5,3))"
   ]
  },
  {
   "cell_type": "markdown",
   "metadata": {},
   "source": [
    "### Constructor:\n",
    "- without using object we will call construcor method(when object is created)\n",
    "- in python __init__(self) method will work as a constructor\n",
    "- Two types:\n",
    "    - default and parameterized\n",
    "    "
   ]
  },
  {
   "cell_type": "code",
   "execution_count": 33,
   "metadata": {},
   "outputs": [
    {
     "name": "stdout",
     "output_type": "stream",
     "text": [
      "5   9\n",
      "14\n"
     ]
    }
   ],
   "source": [
    "class MyMath():\n",
    "    '''\n",
    "    welcome to MyMath class\n",
    "    here we implemented add() for that you have to pass 2 parameters\n",
    "    '''\n",
    "    def __init__(self,n1,n2):\n",
    "        self.n1 = n1\n",
    "        self.n2 = n2\n",
    "        print(self.n1,' ',self.n2)\n",
    "    def add(self):\n",
    "        return self.n1 + self.n2\n",
    "    \n",
    "obj = MyMath(5,9)\n",
    "print(obj.add())"
   ]
  },
  {
   "cell_type": "code",
   "execution_count": null,
   "metadata": {},
   "outputs": [],
   "source": []
  }
 ],
 "metadata": {
  "kernelspec": {
   "display_name": "Python 3",
   "language": "python",
   "name": "python3"
  },
  "language_info": {
   "codemirror_mode": {
    "name": "ipython",
    "version": 3
   },
   "file_extension": ".py",
   "mimetype": "text/x-python",
   "name": "python",
   "nbconvert_exporter": "python",
   "pygments_lexer": "ipython3",
   "version": "3.7.4"
  }
 },
 "nbformat": 4,
 "nbformat_minor": 4
}
