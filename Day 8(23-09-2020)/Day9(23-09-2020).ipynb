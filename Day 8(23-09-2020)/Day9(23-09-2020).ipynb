{
 "cells": [
  {
   "cell_type": "markdown",
   "metadata": {},
   "source": [
    "## Data structures:\n",
    "   - string\n",
    "   - list\n",
    "   - tupple\n",
    "   - dictionary\n",
    "   \n",
    "### Strings:\n",
    "   - combination of alphabets,numbers,special charaters\n",
    "   - data should be enclosed between \" or  '\n",
    "   - slicing\n",
    "       - 0   1  2  3  4 -->forward\n",
    "       - -5 -4 -3 -2 -1 <--backward"
   ]
  },
  {
   "cell_type": "code",
   "execution_count": 5,
   "metadata": {},
   "outputs": [
    {
     "name": "stdout",
     "output_type": "stream",
     "text": [
      "<class 'str'>\n"
     ]
    },
    {
     "data": {
      "text/plain": [
       "'mouni'"
      ]
     },
     "execution_count": 5,
     "metadata": {},
     "output_type": "execute_result"
    }
   ],
   "source": [
    "d='mouni'\n",
    "print(type(d))\n",
    "d"
   ]
  },
  {
   "cell_type": "code",
   "execution_count": 6,
   "metadata": {},
   "outputs": [
    {
     "name": "stdout",
     "output_type": "stream",
     "text": [
      "<class 'int'>\n"
     ]
    },
    {
     "data": {
      "text/plain": [
       "2"
      ]
     },
     "execution_count": 6,
     "metadata": {},
     "output_type": "execute_result"
    }
   ],
   "source": [
    "r=2\n",
    "print(type(r))\n",
    "r"
   ]
  },
  {
   "cell_type": "code",
   "execution_count": 7,
   "metadata": {},
   "outputs": [
    {
     "name": "stdout",
     "output_type": "stream",
     "text": [
      "<class 'float'>\n"
     ]
    },
    {
     "data": {
      "text/plain": [
       "45.67"
      ]
     },
     "execution_count": 7,
     "metadata": {},
     "output_type": "execute_result"
    }
   ],
   "source": [
    "t=45.67\n",
    "print(type(t))\n",
    "t"
   ]
  },
  {
   "cell_type": "code",
   "execution_count": 8,
   "metadata": {},
   "outputs": [
    {
     "name": "stdout",
     "output_type": "stream",
     "text": [
      "45\n",
      "45\n"
     ]
    },
    {
     "data": {
      "text/plain": [
       "'45'"
      ]
     },
     "execution_count": 8,
     "metadata": {},
     "output_type": "execute_result"
    }
   ],
   "source": [
    "y=input()\n",
    "print(y)\n",
    "y"
   ]
  },
  {
   "cell_type": "code",
   "execution_count": 9,
   "metadata": {},
   "outputs": [
    {
     "data": {
      "text/plain": [
       "'K.Mounika'"
      ]
     },
     "execution_count": 9,
     "metadata": {},
     "output_type": "execute_result"
    }
   ],
   "source": [
    "y=\"Mounika\"\n",
    "\"K.Mounika\""
   ]
  },
  {
   "cell_type": "code",
   "execution_count": 9,
   "metadata": {},
   "outputs": [
    {
     "name": "stdout",
     "output_type": "stream",
     "text": [
      "m\n"
     ]
    }
   ],
   "source": [
    "p=\"Kumar\"\n",
    "print(p[2])"
   ]
  },
  {
   "cell_type": "code",
   "execution_count": 10,
   "metadata": {},
   "outputs": [
    {
     "name": "stdout",
     "output_type": "stream",
     "text": [
      "a\n"
     ]
    }
   ],
   "source": [
    "for m in range(len(p)):\n",
    "    if m==3:\n",
    "        print(p[m])"
   ]
  },
  {
   "cell_type": "code",
   "execution_count": 11,
   "metadata": {},
   "outputs": [
    {
     "data": {
      "text/plain": [
       "'Kumar'"
      ]
     },
     "execution_count": 11,
     "metadata": {},
     "output_type": "execute_result"
    }
   ],
   "source": [
    "p[:]"
   ]
  },
  {
   "cell_type": "code",
   "execution_count": null,
   "metadata": {},
   "outputs": [],
   "source": [
    "p[index]\n",
    "p[start:] -> p[1:]\n",
    "p[:end] -> p[:2]\n",
    "p[start:end] -> 0th index\n",
    "p[start:end:stepping] -> for step"
   ]
  },
  {
   "cell_type": "code",
   "execution_count": 12,
   "metadata": {},
   "outputs": [
    {
     "name": "stdout",
     "output_type": "stream",
     "text": [
      "12\n",
      "s\n",
      "h\n",
      "jesh Kumar\n",
      "mar\n",
      "Rajesh Ku\n",
      "Rajesh \n",
      "Rajesh Kumar\n"
     ]
    }
   ],
   "source": [
    "m=\"Rajesh Kumar\"\n",
    "print(len(m))\n",
    "print(m[4])\n",
    "print(m[-7])\n",
    "print(m[2:])\n",
    "print(m[-3:])\n",
    "print(m[:9])\n",
    "print(m[:-5])\n",
    "print(m[:])"
   ]
  },
  {
   "cell_type": "code",
   "execution_count": 13,
   "metadata": {},
   "outputs": [
    {
     "name": "stdout",
     "output_type": "stream",
     "text": [
      "Rajesh Kumar\n",
      "esh Kumar\n",
      "umar\n",
      "Rajesh Kumar\n",
      "Rajesh K\n",
      "Rajesh Ku\n",
      "sh Kum\n",
      "jesh\n",
      "\n",
      "\n"
     ]
    }
   ],
   "source": [
    "print(m)\n",
    "print(m[3::])\n",
    "print(m[-4::])\n",
    "print(m[::])\n",
    "print(m[:8:])\n",
    "print(m[:-3:])\n",
    "print(m[4:10:])\n",
    "print(m[2:-6:])\n",
    "print(m[-3:-3:]) # No output\n",
    "print(m[-4:2:1]) # No output"
   ]
  },
  {
   "cell_type": "code",
   "execution_count": 20,
   "metadata": {},
   "outputs": [
    {
     "name": "stdout",
     "output_type": "stream",
     "text": [
      "Rajesh Kumar\n",
      "jhur\n",
      "sjR\n",
      "K\n",
      "\n",
      "mKhe\n",
      "mKh\n",
      "aK\n"
     ]
    }
   ],
   "source": [
    "print(m)\n",
    "print(m[2::3])\n",
    "print(m[4::-2])\n",
    "print(m[7:10:3])\n",
    "print(m[2:9:-1]) \n",
    "print(m[9:-10:-2])\n",
    "print(m[-3:4:-2])\n",
    "print(m[-2:-7:-3])"
   ]
  },
  {
   "cell_type": "code",
   "execution_count": null,
   "metadata": {},
   "outputs": [],
   "source": [
    "0    1   2   3   4   5  6   7  8  9  10  11\n",
    "R    a   j   e   s   h      K  u  m  a   r\n",
    "-12 -11 -10  -9  -8  -7 -6 -5 -4 -3 -2  -1\n"
   ]
  },
  {
   "cell_type": "code",
   "execution_count": 26,
   "metadata": {},
   "outputs": [
    {
     "name": "stdout",
     "output_type": "stream",
     "text": [
      "Tar\n",
      "xxxx\n",
      "Tarxxxxrun Kumar\n",
      "Tarxxxxar\n"
     ]
    }
   ],
   "source": [
    "w=\"Tarun Kumar\"\n",
    "t=w[:3]\n",
    "y=\"x\"*4\n",
    "q=w[2:]\n",
    "e=t+y+q\n",
    "a=w[:3]+\"x\"*4+w[-2:]\n",
    "print(t)\n",
    "print(y)\n",
    "print(e)\n",
    "print(a)"
   ]
  },
  {
   "cell_type": "code",
   "execution_count": 27,
   "metadata": {},
   "outputs": [
    {
     "name": "stdout",
     "output_type": "stream",
     "text": [
      "['__add__', '__class__', '__contains__', '__delattr__', '__dir__', '__doc__', '__eq__', '__format__', '__ge__', '__getattribute__', '__getitem__', '__getnewargs__', '__gt__', '__hash__', '__init__', '__init_subclass__', '__iter__', '__le__', '__len__', '__lt__', '__mod__', '__mul__', '__ne__', '__new__', '__reduce__', '__reduce_ex__', '__repr__', '__rmod__', '__rmul__', '__setattr__', '__sizeof__', '__str__', '__subclasshook__', 'capitalize', 'casefold', 'center', 'count', 'encode', 'endswith', 'expandtabs', 'find', 'format', 'format_map', 'index', 'isalnum', 'isalpha', 'isascii', 'isdecimal', 'isdigit', 'isidentifier', 'islower', 'isnumeric', 'isprintable', 'isspace', 'istitle', 'isupper', 'join', 'ljust', 'lower', 'lstrip', 'maketrans', 'partition', 'replace', 'rfind', 'rindex', 'rjust', 'rpartition', 'rsplit', 'rstrip', 'split', 'splitlines', 'startswith', 'strip', 'swapcase', 'title', 'translate', 'upper', 'zfill']\n"
     ]
    }
   ],
   "source": [
    "print(dir(str))"
   ]
  },
  {
   "cell_type": "code",
   "execution_count": null,
   "metadata": {},
   "outputs": [],
   "source": []
  }
 ],
 "metadata": {
  "kernelspec": {
   "display_name": "Python 3",
   "language": "python",
   "name": "python3"
  },
  "language_info": {
   "codemirror_mode": {
    "name": "ipython",
    "version": 3
   },
   "file_extension": ".py",
   "mimetype": "text/x-python",
   "name": "python",
   "nbconvert_exporter": "python",
   "pygments_lexer": "ipython3",
   "version": "3.7.4"
  }
 },
 "nbformat": 4,
 "nbformat_minor": 4
}
