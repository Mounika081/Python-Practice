{
 "cells": [
  {
   "cell_type": "markdown",
   "metadata": {},
   "source": [
    "## Assignment operators\n",
    "- +=,-=,*=,/=,//=,**=,%=,<=,>=,==,==="
   ]
  },
  {
   "cell_type": "code",
   "execution_count": 17,
   "metadata": {},
   "outputs": [],
   "source": [
    "a=10\n",
    "\n"
   ]
  },
  {
   "cell_type": "code",
   "execution_count": 18,
   "metadata": {},
   "outputs": [
    {
     "data": {
      "text/plain": [
       "10"
      ]
     },
     "execution_count": 18,
     "metadata": {},
     "output_type": "execute_result"
    }
   ],
   "source": [
    "a"
   ]
  },
  {
   "cell_type": "code",
   "execution_count": 19,
   "metadata": {},
   "outputs": [],
   "source": [
    "a+=1"
   ]
  },
  {
   "cell_type": "code",
   "execution_count": 20,
   "metadata": {},
   "outputs": [
    {
     "data": {
      "text/plain": [
       "11"
      ]
     },
     "execution_count": 20,
     "metadata": {},
     "output_type": "execute_result"
    }
   ],
   "source": [
    "a"
   ]
  },
  {
   "cell_type": "code",
   "execution_count": 21,
   "metadata": {},
   "outputs": [],
   "source": [
    "a*=2"
   ]
  },
  {
   "cell_type": "code",
   "execution_count": 22,
   "metadata": {},
   "outputs": [
    {
     "data": {
      "text/plain": [
       "22"
      ]
     },
     "execution_count": 22,
     "metadata": {},
     "output_type": "execute_result"
    }
   ],
   "source": [
    "a"
   ]
  },
  {
   "cell_type": "markdown",
   "metadata": {},
   "source": [
    "## Membership operators\n",
    "- By using this operators we will identify a particular element belongs to group or not\n",
    "- They are : in ,not in"
   ]
  },
  {
   "cell_type": "code",
   "execution_count": 23,
   "metadata": {},
   "outputs": [
    {
     "data": {
      "text/plain": [
       "True"
      ]
     },
     "execution_count": 23,
     "metadata": {},
     "output_type": "execute_result"
    }
   ],
   "source": [
    "arr=[1,2,3,4,5,6]\n",
    "inp=3\n",
    "inp in arr\n"
   ]
  },
  {
   "cell_type": "code",
   "execution_count": 24,
   "metadata": {},
   "outputs": [
    {
     "data": {
      "text/plain": [
       "False"
      ]
     },
     "execution_count": 24,
     "metadata": {},
     "output_type": "execute_result"
    }
   ],
   "source": [
    "10 in arr"
   ]
  },
  {
   "cell_type": "code",
   "execution_count": 26,
   "metadata": {},
   "outputs": [
    {
     "data": {
      "text/plain": [
       "True"
      ]
     },
     "execution_count": 26,
     "metadata": {},
     "output_type": "execute_result"
    }
   ],
   "source": [
    "s1='mounika korra'\n",
    "'n' in s1"
   ]
  },
  {
   "cell_type": "code",
   "execution_count": 27,
   "metadata": {},
   "outputs": [
    {
     "data": {
      "text/plain": [
       "True"
      ]
     },
     "execution_count": 27,
     "metadata": {},
     "output_type": "execute_result"
    }
   ],
   "source": [
    "'mounika' in s1"
   ]
  },
  {
   "cell_type": "code",
   "execution_count": 28,
   "metadata": {},
   "outputs": [
    {
     "data": {
      "text/plain": [
       "True"
      ]
     },
     "execution_count": 28,
     "metadata": {},
     "output_type": "execute_result"
    }
   ],
   "source": [
    "bits='00110010111'\n",
    "'00' in bits"
   ]
  },
  {
   "cell_type": "code",
   "execution_count": 29,
   "metadata": {},
   "outputs": [
    {
     "data": {
      "text/plain": [
       "False"
      ]
     },
     "execution_count": 29,
     "metadata": {},
     "output_type": "execute_result"
    }
   ],
   "source": [
    "4 not in arr"
   ]
  },
  {
   "cell_type": "code",
   "execution_count": 30,
   "metadata": {},
   "outputs": [
    {
     "data": {
      "text/plain": [
       "[1, 2, 3, 4, 5, 6]"
      ]
     },
     "execution_count": 30,
     "metadata": {},
     "output_type": "execute_result"
    }
   ],
   "source": [
    "arr"
   ]
  },
  {
   "cell_type": "markdown",
   "metadata": {},
   "source": [
    "## Identity operators\n",
    "- By using this operators we compare values\n",
    "- They are:is,is not"
   ]
  },
  {
   "cell_type": "code",
   "execution_count": 31,
   "metadata": {},
   "outputs": [
    {
     "data": {
      "text/plain": [
       "True"
      ]
     },
     "execution_count": 31,
     "metadata": {},
     "output_type": "execute_result"
    }
   ],
   "source": [
    "'abc' is 'abc'"
   ]
  },
  {
   "cell_type": "code",
   "execution_count": 32,
   "metadata": {},
   "outputs": [
    {
     "data": {
      "text/plain": [
       "False"
      ]
     },
     "execution_count": 32,
     "metadata": {},
     "output_type": "execute_result"
    }
   ],
   "source": [
    "'abc' is 'cbd'"
   ]
  },
  {
   "cell_type": "code",
   "execution_count": 33,
   "metadata": {},
   "outputs": [
    {
     "data": {
      "text/plain": [
       "True"
      ]
     },
     "execution_count": 33,
     "metadata": {},
     "output_type": "execute_result"
    }
   ],
   "source": [
    "123 is not 1234"
   ]
  },
  {
   "cell_type": "markdown",
   "metadata": {},
   "source": [
    "## Conditional Control Statements\n",
    "- It controls the flow of execution based on condition\n",
    "- For that we have few different statements:\n",
    "    - conditional stmt\n",
    "    - looping stmt\n",
    "    - jump stmt"
   ]
  },
  {
   "cell_type": "markdown",
   "metadata": {},
   "source": [
    "### Conditional Statements:\n",
    "- if\n",
    "    - if(condition):\n",
    "          stmt\n",
    "- if else\n",
    "    - - if(condition):\n",
    "          stmt\n",
    "        else:\n",
    "             stmt\n",
    "- nested if else\n",
    "- else if ladder"
   ]
  },
  {
   "cell_type": "code",
   "execution_count": 34,
   "metadata": {},
   "outputs": [
    {
     "name": "stdout",
     "output_type": "stream",
     "text": [
      "True\n"
     ]
    }
   ],
   "source": [
    "if(5<6):\n",
    "    print('True')"
   ]
  },
  {
   "cell_type": "code",
   "execution_count": 35,
   "metadata": {},
   "outputs": [
    {
     "name": "stdout",
     "output_type": "stream",
     "text": [
      "i am inside if\n",
      "5 is small\n",
      "i am out of if\n"
     ]
    }
   ],
   "source": [
    "if(5<6):\n",
    "    print('i am inside if')\n",
    "    print(\"5 is small\")\n",
    "print('i am out of if')"
   ]
  },
  {
   "cell_type": "code",
   "execution_count": 38,
   "metadata": {},
   "outputs": [
    {
     "ename": "IndentationError",
     "evalue": "unindent does not match any outer indentation level (<tokenize>, line 3)",
     "output_type": "error",
     "traceback": [
      "\u001b[1;36m  File \u001b[1;32m\"<tokenize>\"\u001b[1;36m, line \u001b[1;32m3\u001b[0m\n\u001b[1;33m    print(\"5 is small\")\u001b[0m\n\u001b[1;37m    ^\u001b[0m\n\u001b[1;31mIndentationError\u001b[0m\u001b[1;31m:\u001b[0m unindent does not match any outer indentation level\n"
     ]
    }
   ],
   "source": [
    "if(51<6):\n",
    "    print('i am inside if')\n",
    " print(\"5 is small\")\n",
    "print('i am out of if')"
   ]
  },
  {
   "cell_type": "code",
   "execution_count": 39,
   "metadata": {},
   "outputs": [
    {
     "ename": "SyntaxError",
     "evalue": "invalid syntax (<ipython-input-39-ef9baa7b70f0>, line 1)",
     "output_type": "error",
     "traceback": [
      "\u001b[1;36m  File \u001b[1;32m\"<ipython-input-39-ef9baa7b70f0>\"\u001b[1;36m, line \u001b[1;32m1\u001b[0m\n\u001b[1;33m    if(51<6)\u001b[0m\n\u001b[1;37m            ^\u001b[0m\n\u001b[1;31mSyntaxError\u001b[0m\u001b[1;31m:\u001b[0m invalid syntax\n"
     ]
    }
   ],
   "source": [
    "if(51<6)\n",
    "    print('i am inside if')\n",
    "    print(\"5 is small\")\n",
    "print('i am out of if')"
   ]
  },
  {
   "cell_type": "code",
   "execution_count": 42,
   "metadata": {},
   "outputs": [
    {
     "name": "stdout",
     "output_type": "stream",
     "text": [
      "i am out of if\n"
     ]
    }
   ],
   "source": [
    "if(51<6):\n",
    "    print('i am inside if')\n",
    "    print(\"5 is small\")\n",
    "print('i am out of if')"
   ]
  },
  {
   "cell_type": "code",
   "execution_count": 43,
   "metadata": {},
   "outputs": [
    {
     "name": "stdout",
     "output_type": "stream",
     "text": [
      "i am inside else block\n"
     ]
    }
   ],
   "source": [
    "if(4>7):\n",
    "    print('i am inside if block')\n",
    "else:\n",
    "    print('i am inside else block')"
   ]
  },
  {
   "cell_type": "code",
   "execution_count": 46,
   "metadata": {},
   "outputs": [
    {
     "name": "stdout",
     "output_type": "stream",
     "text": [
      "i am inside if block\n",
      "i am going to exit\n"
     ]
    }
   ],
   "source": [
    "if(23>7):\n",
    "    print('i am inside if block')\n",
    "else:\n",
    "    print('i am inside else block')\n",
    "print('i am going to exit')"
   ]
  },
  {
   "cell_type": "code",
   "execution_count": 47,
   "metadata": {},
   "outputs": [
    {
     "ename": "SyntaxError",
     "evalue": "invalid syntax (<ipython-input-47-38a20feef2a1>, line 4)",
     "output_type": "error",
     "traceback": [
      "\u001b[1;36m  File \u001b[1;32m\"<ipython-input-47-38a20feef2a1>\"\u001b[1;36m, line \u001b[1;32m4\u001b[0m\n\u001b[1;33m    else:\u001b[0m\n\u001b[1;37m       ^\u001b[0m\n\u001b[1;31mSyntaxError\u001b[0m\u001b[1;31m:\u001b[0m invalid syntax\n"
     ]
    }
   ],
   "source": [
    "if(4>7):\n",
    "    print('i am inside if block')\n",
    "print('just added')\n",
    "else:\n",
    "    print('i am inside else block')"
   ]
  },
  {
   "cell_type": "code",
   "execution_count": 52,
   "metadata": {},
   "outputs": [
    {
     "name": "stdout",
     "output_type": "stream",
     "text": [
      "i am inside else block\n"
     ]
    }
   ],
   "source": [
    "if(4>7):\n",
    "    print('i am inside if block')\n",
    "else:\n",
    "    print('i am inside else block')"
   ]
  },
  {
   "cell_type": "code",
   "execution_count": 51,
   "metadata": {},
   "outputs": [
    {
     "name": "stdout",
     "output_type": "stream",
     "text": [
      "i am inside else block\n"
     ]
    }
   ],
   "source": [
    "if(4>7):\n",
    "    print('i am inside if block')\n",
    "  \n",
    "else:\n",
    "    print('i am inside else block')"
   ]
  },
  {
   "cell_type": "code",
   "execution_count": 54,
   "metadata": {},
   "outputs": [
    {
     "name": "stdout",
     "output_type": "stream",
     "text": [
      "6 is existed in b/w 5 and 6\n"
     ]
    }
   ],
   "source": [
    "if(5<6):\n",
    "    if(6<7):\n",
    "        print('6 is existed in b/w 5 and 6')\n",
    "    else:\n",
    "        print('wrong choice')\n",
    "else:\n",
    "    print('try again')"
   ]
  },
  {
   "cell_type": "code",
   "execution_count": 55,
   "metadata": {},
   "outputs": [
    {
     "name": "stdout",
     "output_type": "stream",
     "text": [
      "6 is existed in b/w 5 and 6\n"
     ]
    }
   ],
   "source": [
    "if((5<6) and (6<7)):\n",
    "    print('6 is existed in b/w 5 and 6')\n",
    "else:\n",
    "    print('try again')"
   ]
  },
  {
   "cell_type": "code",
   "execution_count": 58,
   "metadata": {},
   "outputs": [
    {
     "name": "stdout",
     "output_type": "stream",
     "text": [
      "i am from elif\n"
     ]
    }
   ],
   "source": [
    "if(343<67):\n",
    "    print('true')\n",
    "elif(341>45):\n",
    "    print('i am from elif')\n",
    "else:\n",
    "    print(\"false\")"
   ]
  },
  {
   "cell_type": "markdown",
   "metadata": {},
   "source": [
    "#### task1: write a logic to find biggest of 2 no's i.e,34 and 234\n",
    "#### task2:write a logic to find biggest of 3 no's \n",
    "#### task3:find even or not\n",
    "- if it is even print power of value\n",
    "- othewise print multiply that value with 5\n",
    "#### task4:write a logic to find a given number is 5 multiple or not"
   ]
  },
  {
   "cell_type": "code",
   "execution_count": 5,
   "metadata": {},
   "outputs": [
    {
     "name": "stdout",
     "output_type": "stream",
     "text": [
      "Enter a value: 34\n",
      "Enter a value: 234\n",
      "234 is big\n"
     ]
    }
   ],
   "source": [
    "a=int(input(\"Enter a value: \"))\n",
    "b=int(input(\"Enter a value: \"))\n",
    "if(a>b):\n",
    "    print(a,\"is big\")\n",
    "else:\n",
    "    print(b,\"is big\")\n"
   ]
  },
  {
   "cell_type": "code",
   "execution_count": 3,
   "metadata": {},
   "outputs": [
    {
     "name": "stdout",
     "output_type": "stream",
     "text": [
      "Enter a value: 67\n",
      "Enter b value: 78\n",
      "Enter c value: 28\n",
      "78 is big\n"
     ]
    }
   ],
   "source": [
    "a=int(input(\"Enter a value: \"))\n",
    "b=int(input(\"Enter b value: \"))\n",
    "c=int(input(\"Enter c value: \"))\n",
    "if(a>b and a>c):\n",
    "    print(a,\"is big\")\n",
    "elif(b>c):\n",
    "    print(b,\"is big\")\n",
    "else:\n",
    "    print(c,\"is big\")\n"
   ]
  },
  {
   "cell_type": "code",
   "execution_count": 8,
   "metadata": {},
   "outputs": [
    {
     "name": "stdout",
     "output_type": "stream",
     "text": [
      "Enter a value :8\n",
      "power:  64\n"
     ]
    }
   ],
   "source": [
    "a=int(input(\"Enter a value :\"))\n",
    "if(a%2 is 0):\n",
    "    print(\"power: \",pow(a,2))\n",
    "else:\n",
    "    print(a*5)\n"
   ]
  },
  {
   "cell_type": "code",
   "execution_count": 12,
   "metadata": {},
   "outputs": [
    {
     "name": "stdout",
     "output_type": "stream",
     "text": [
      "Enter a value :35\n",
      "35 is multiple of 5\n"
     ]
    }
   ],
   "source": [
    "a=int(input(\"Enter a value :\"))\n",
    "if(a%5==0):\n",
    "    print(a,\"is multiple of 5\")\n",
    "else:\n",
    "    print(a,\"is not multiple of 5\")"
   ]
  },
  {
   "cell_type": "code",
   "execution_count": null,
   "metadata": {},
   "outputs": [],
   "source": []
  }
 ],
 "metadata": {
  "kernelspec": {
   "display_name": "Python 3",
   "language": "python",
   "name": "python3"
  },
  "language_info": {
   "codemirror_mode": {
    "name": "ipython",
    "version": 3
   },
   "file_extension": ".py",
   "mimetype": "text/x-python",
   "name": "python",
   "nbconvert_exporter": "python",
   "pygments_lexer": "ipython3",
   "version": "3.7.4"
  }
 },
 "nbformat": 4,
 "nbformat_minor": 4
}
