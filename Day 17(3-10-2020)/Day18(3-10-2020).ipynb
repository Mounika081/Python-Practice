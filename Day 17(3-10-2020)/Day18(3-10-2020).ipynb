{
 "cells": [
  {
   "cell_type": "code",
   "execution_count": 3,
   "metadata": {},
   "outputs": [
    {
     "name": "stdout",
     "output_type": "stream",
     "text": [
      "Enter a number2\n",
      "Enter last number20\n",
      "2 3 5 7 11 13 17 19 "
     ]
    }
   ],
   "source": [
    "# print the inbetween prime numbers\n",
    "first=int(input(\"Enter a number\"))\n",
    "end=int(input(\"Enter last number\"))\n",
    "for i in range(first,end+1):\n",
    "    if(i>1):\n",
    "        c=0\n",
    "        for j in range(2,i):\n",
    "            if(i%j==0):\n",
    "                c=c+1\n",
    "        if(c==0):\n",
    "            print(i,end=\" \")\n",
    "    else:\n",
    "        print(\"Enter starting number from 2\")"
   ]
  },
  {
   "cell_type": "code",
   "execution_count": 28,
   "metadata": {},
   "outputs": [
    {
     "name": "stdout",
     "output_type": "stream",
     "text": [
      "Enter a string1: fgtrh\n",
      "Enter a string2: reg\n",
      "gtrheg\n"
     ]
    }
   ],
   "source": [
    "#Given two strings return their concatination,except omit the first char of each\n",
    "# ex: one two=>newo;\n",
    "def concat(s1,s2):\n",
    "    rs=s1[1:]+s2[1:]\n",
    "    return rs\n",
    "s1=input(\"Enter a string1: \")\n",
    "s2=input(\"Enter a string2: \")\n",
    "rs=concat(s1,s2)\n",
    "print(rs)"
   ]
  },
  {
   "cell_type": "code",
   "execution_count": 3,
   "metadata": {},
   "outputs": [
    {
     "name": "stdout",
     "output_type": "stream",
     "text": [
      "['34\\n', '20\\n', '23\\n', '34\\n', '56'] line by line\n",
      "34\n",
      " number\n",
      "20\n",
      " number\n",
      "23\n",
      " number\n",
      "34\n",
      " number\n",
      "56 number\n",
      "167 total sum\n"
     ]
    }
   ],
   "source": [
    "s=0\n",
    "f=open(\"sum.txt\",\"r\")\n",
    "data=f.readlines()\n",
    "print(data,\"line by line\")\n",
    "for ele in data:\n",
    "    print((ele),\"number\")\n",
    "    s=int(ele)+s\n",
    "print(s,\"total sum\")\n",
    "f.close()"
   ]
  },
  {
   "cell_type": "code",
   "execution_count": null,
   "metadata": {},
   "outputs": [],
   "source": []
  }
 ],
 "metadata": {
  "kernelspec": {
   "display_name": "Python 3",
   "language": "python",
   "name": "python3"
  },
  "language_info": {
   "codemirror_mode": {
    "name": "ipython",
    "version": 3
   },
   "file_extension": ".py",
   "mimetype": "text/x-python",
   "name": "python",
   "nbconvert_exporter": "python",
   "pygments_lexer": "ipython3",
   "version": "3.7.4"
  }
 },
 "nbformat": 4,
 "nbformat_minor": 4
}
