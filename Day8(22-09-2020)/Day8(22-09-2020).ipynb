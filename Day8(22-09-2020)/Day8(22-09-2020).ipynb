{
 "cells": [
  {
   "cell_type": "code",
   "execution_count": 5,
   "metadata": {},
   "outputs": [
    {
     "name": "stdout",
     "output_type": "stream",
     "text": [
      "Enter a value: -5\n",
      "Negative number\n"
     ]
    }
   ],
   "source": [
    "n=int(input(\"Enter a value: \"))\n",
    "if(n>=0):\n",
    "    print(\"Positive number\")\n",
    "else:\n",
    "    print(\"Negative number\")\n"
   ]
  },
  {
   "cell_type": "code",
   "execution_count": 7,
   "metadata": {},
   "outputs": [
    {
     "name": "stdout",
     "output_type": "stream",
     "text": [
      "Enter a value: 3\n",
      "Odd number\n"
     ]
    }
   ],
   "source": [
    "n=int(input(\"Enter a value: \"))\n",
    "if(n%2 is 0):\n",
    "    print(\"Even number\")\n",
    "else:\n",
    "    print(\"Odd number\")\n"
   ]
  },
  {
   "cell_type": "code",
   "execution_count": 2,
   "metadata": {},
   "outputs": [],
   "source": [
    "# Positive or Negative\n",
    "def pos(n):\n",
    "    if(n>=0):\n",
    "        return True\n",
    "    else:\n",
    "        return False"
   ]
  },
  {
   "cell_type": "code",
   "execution_count": 3,
   "metadata": {},
   "outputs": [
    {
     "name": "stdout",
     "output_type": "stream",
     "text": [
      "Enter a value: -99\n",
      "False\n"
     ]
    }
   ],
   "source": [
    "n=int(input(\"Enter a value: \"))\n",
    "rs = pos(n)\n",
    "print(rs)"
   ]
  },
  {
   "cell_type": "code",
   "execution_count": 4,
   "metadata": {},
   "outputs": [],
   "source": [
    "# Even or Odd\n",
    "def eve(n):\n",
    "    if n%2==0:\n",
    "        return True\n",
    "    else:\n",
    "        return False"
   ]
  },
  {
   "cell_type": "code",
   "execution_count": 6,
   "metadata": {},
   "outputs": [
    {
     "name": "stdout",
     "output_type": "stream",
     "text": [
      "Enter a value: 67\n",
      "False\n"
     ]
    }
   ],
   "source": [
    "n=int(input(\"Enter a value: \"))\n",
    "rs=eve(n)\n",
    "print(rs)"
   ]
  },
  {
   "cell_type": "code",
   "execution_count": 33,
   "metadata": {},
   "outputs": [],
   "source": [
    "# Leap year or not\n",
    "def leap(y):\n",
    "    if(y%4==0):\n",
    "        print(\"Leap Year\")\n",
    "    else:\n",
    "        print(\"Not a Leap year\")\n",
    "        return"
   ]
  },
  {
   "cell_type": "code",
   "execution_count": 34,
   "metadata": {},
   "outputs": [
    {
     "name": "stdout",
     "output_type": "stream",
     "text": [
      "Enter year: 1994\n",
      "Not a Leap year\n"
     ]
    }
   ],
   "source": [
    "y=int(input(\"Enter year: \"))\n",
    "rs=leap(y)"
   ]
  },
  {
   "cell_type": "code",
   "execution_count": 43,
   "metadata": {},
   "outputs": [
    {
     "name": "stdout",
     "output_type": "stream",
     "text": [
      "Enter a character: d\n",
      "Consonant\n"
     ]
    }
   ],
   "source": [
    "# vowel or consonant\n",
    "def vow(ch):\n",
    "    if(ch=='a' or ch=='e' or ch=='i' or ch=='o' or ch=='u' or ch=='A' or ch=='E' or ch=='I' or ch=='O' or ch=='U'):\n",
    "        print(\"Vowel\")\n",
    "    else:\n",
    "        print(\"Consonant\")\n",
    "ch=input(\"Enter a character: \")\n",
    "rs=vow(ch)        "
   ]
  },
  {
   "cell_type": "code",
   "execution_count": 4,
   "metadata": {},
   "outputs": [
    {
     "name": "stdout",
     "output_type": "stream",
     "text": [
      "E\n",
      "True\n"
     ]
    }
   ],
   "source": [
    "# vowel or consonant\n",
    "li=['a','e','i','o','u','A','E','I','O','U']\n",
    "def isVowel(ch):\n",
    "    if ch in li:\n",
    "        return True\n",
    "    else:\n",
    "        return False\n",
    "ch=input()\n",
    "print(isVowel(ch))"
   ]
  },
  {
   "cell_type": "code",
   "execution_count": 27,
   "metadata": {},
   "outputs": [],
   "source": [
    "# Equal or not\n",
    "def equ(n1,n2):\n",
    "    if(n1-n2 is 0):\n",
    "        print(\"Equal\")\n",
    "    else:\n",
    "        print(\"Not equal\")\n",
    "        return"
   ]
  },
  {
   "cell_type": "code",
   "execution_count": 30,
   "metadata": {},
   "outputs": [
    {
     "name": "stdout",
     "output_type": "stream",
     "text": [
      "Enter n1 value: 34\n",
      "Enter n2 value: 34\n",
      "Equal\n"
     ]
    }
   ],
   "source": [
    "n1=int(input(\"Enter n1 value: \"))\n",
    "n2=int(input(\"Enter n2 value: \"))\n",
    "rs=equ(n1,n2)"
   ]
  },
  {
   "cell_type": "code",
   "execution_count": 1,
   "metadata": {},
   "outputs": [
    {
     "name": "stdout",
     "output_type": "stream",
     "text": [
      "67\n",
      "False\n"
     ]
    }
   ],
   "source": [
    "# even or odd numbers\n",
    "def isEven(n):\n",
    "    if n%2==0:\n",
    "        return True\n",
    "    else:\n",
    "        return False\n",
    "n = int(input())\n",
    "rs = isEven(n)\n",
    "print(rs)\n"
   ]
  },
  {
   "cell_type": "code",
   "execution_count": 2,
   "metadata": {},
   "outputs": [
    {
     "name": "stdout",
     "output_type": "stream",
     "text": [
      "enter a range:10\n",
      "30\n"
     ]
    }
   ],
   "source": [
    "# sum of even numbers\n",
    "num = int(input(\"enter a range:\"))\n",
    "sm = 0\n",
    "for i in range(2,num+1):\n",
    "    if isEven(i):\n",
    "        sm += i\n",
    "    \n",
    "print(sm)"
   ]
  },
  {
   "cell_type": "code",
   "execution_count": 4,
   "metadata": {},
   "outputs": [
    {
     "name": "stdout",
     "output_type": "stream",
     "text": [
      "Enter range: 10\n",
      "55\n"
     ]
    }
   ],
   "source": [
    "# sum of n natural numbers\n",
    "def sumOfNNaturalNums(num):\n",
    "    sum=0\n",
    "    for i in range(1,num+1):\n",
    "        sum+=i   \n",
    "    return sum\n",
    "    \n",
    "num=int(input(\"Enter range: \"))\n",
    "rs=sumOfNNaturalNums(num)\n",
    "print(rs)"
   ]
  },
  {
   "cell_type": "code",
   "execution_count": 3,
   "metadata": {},
   "outputs": [
    {
     "name": "stdout",
     "output_type": "stream",
     "text": [
      "enter a range:10\n",
      "25\n"
     ]
    }
   ],
   "source": [
    "# sum of odd natural numbers\n",
    "num = int(input(\"enter a range:\"))\n",
    "sm = 0\n",
    "for i in range(1,num+1):\n",
    "    if isEven(i):\n",
    "        continue\n",
    "    else:\n",
    "        sm += i\n",
    "    \n",
    "print(sm)"
   ]
  },
  {
   "cell_type": "code",
   "execution_count": 29,
   "metadata": {},
   "outputs": [
    {
     "name": "stdout",
     "output_type": "stream",
     "text": [
      "Enter range: 10\n",
      "3628800\n"
     ]
    }
   ],
   "source": [
    "# product of n natural numbers\n",
    "def productOfNNaturalNums(num):\n",
    "    pro=1\n",
    "    for i in range(1,num+1):\n",
    "        pro*=i   \n",
    "    return pro\n",
    "\n",
    "num=int(input(\"Enter range: \"))\n",
    "rs=productOfNNaturalNums(num)\n",
    "print(rs)"
   ]
  },
  {
   "cell_type": "code",
   "execution_count": 7,
   "metadata": {},
   "outputs": [
    {
     "name": "stdout",
     "output_type": "stream",
     "text": [
      "Enter n1 value: 45\n",
      "Enter n2 value: 54\n",
      "n2 is big\n"
     ]
    }
   ],
   "source": [
    "# biggest of two numbers\n",
    "def biggestOfTwoNums(n1,n2):\n",
    "    if n1>n2:\n",
    "        print(\"n1 is big\")\n",
    "    else:\n",
    "        print(\"n2 is big\")\n",
    "        \n",
    "n1=int(input(\"Enter n1 value: \"))\n",
    "n2=int(input(\"Enter n2 value: \"))\n",
    "rs=biggestOfTwoNums(n1,n2)"
   ]
  },
  {
   "cell_type": "code",
   "execution_count": 8,
   "metadata": {},
   "outputs": [
    {
     "name": "stdout",
     "output_type": "stream",
     "text": [
      "Enter n1 value: 34\n",
      "Enter n2 value: 45\n",
      "Enter n3 value: 23\n",
      "n2 is big\n"
     ]
    }
   ],
   "source": [
    "# biggest of three numbers\n",
    "def biggestOfTwoNums(n1,n2,n3):\n",
    "    if n1>n2 and n1>n3:\n",
    "        print(\"n1 is big\")\n",
    "    elif n2>n3:\n",
    "        print(\"n2 is big\")\n",
    "    else:\n",
    "        print(\"n3 is big\")\n",
    "        \n",
    "n1=int(input(\"Enter n1 value: \"))\n",
    "n2=int(input(\"Enter n2 value: \"))\n",
    "n3=int(input(\"Enter n3 value: \"))\n",
    "rs=biggestOfTwoNums(n1,n2,n3)"
   ]
  },
  {
   "cell_type": "code",
   "execution_count": null,
   "metadata": {},
   "outputs": [],
   "source": []
  },
  {
   "cell_type": "code",
   "execution_count": 22,
   "metadata": {},
   "outputs": [
    {
     "name": "stdout",
     "output_type": "stream",
     "text": [
      "Enter range: 10\n",
      "1 2 3 4 5 6 7 8 9 10 "
     ]
    }
   ],
   "source": [
    "# print the 1 to n natural numbers in increment order\n",
    "def naturalNumsInInc(num):\n",
    "    for i in range(1,num+1):  \n",
    "        print(i,end=\" \")\n",
    "    \n",
    "num=int(input(\"Enter range: \"))\n",
    "rs=naturalNumsInInc(num)"
   ]
  },
  {
   "cell_type": "code",
   "execution_count": 41,
   "metadata": {},
   "outputs": [
    {
     "name": "stdout",
     "output_type": "stream",
     "text": [
      "Enter range: 8\n",
      "8 7 6 5 4 3 2 1 "
     ]
    }
   ],
   "source": [
    "# print the 1 to n natural numbers in decrement order\n",
    "def naturalNumsIndec(n):\n",
    "    for i in range(n,0,-1):  \n",
    "        print(i,end=\" \")\n",
    "    \n",
    "n=int(input(\"Enter range: \"))\n",
    "rs=naturalNumsIndec(n)"
   ]
  },
  {
   "cell_type": "code",
   "execution_count": null,
   "metadata": {},
   "outputs": [],
   "source": []
  }
 ],
 "metadata": {
  "kernelspec": {
   "display_name": "Python 3",
   "language": "python",
   "name": "python3"
  },
  "language_info": {
   "codemirror_mode": {
    "name": "ipython",
    "version": 3
   },
   "file_extension": ".py",
   "mimetype": "text/x-python",
   "name": "python",
   "nbconvert_exporter": "python",
   "pygments_lexer": "ipython3",
   "version": "3.7.4"
  }
 },
 "nbformat": 4,
 "nbformat_minor": 4
}
