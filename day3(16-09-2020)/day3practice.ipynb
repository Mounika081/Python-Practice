{
 "cells": [
  {
   "cell_type": "markdown",
   "metadata": {},
   "source": [
    "# Today Concepts\n",
    "## 16-09-2020\n",
    "### Jupyter Installation\n",
    "- To install jupyter we have to run a command that is 'pip install jupyter\n",
    "- To open jupyter notebook we have to run a command in command promptthat is 'jupyter notebook'. \n",
    "### Main Heading\n",
    "- #### sub Heading1\n",
    "    - ##### sub Heading2\n",
    "    <h2>I am h2 tag</h2>\n",
    "    <p> I am p tag</p>\n",
    "    <a href=\"\"> I am a tag</a>\n",
    "    <img src='pthonlogo.png'>\n",
    "    <table>\n",
    "    <tr><td>Badulla</td><td>Kadapa</td></tr>\n",
    "    <tr><td>Kalyan</td><td>Guntur</td></tr>\n",
    "    </table>"
   ]
  },
  {
   "cell_type": "code",
   "execution_count": 5,
   "metadata": {},
   "outputs": [
    {
     "name": "stdout",
     "output_type": "stream",
     "text": [
      "hi hello\n",
      "i am using jupyter notebook\n",
      "i am from gvl college\n"
     ]
    },
    {
     "data": {
      "text/plain": [
       "80"
      ]
     },
     "execution_count": 5,
     "metadata": {},
     "output_type": "execute_result"
    }
   ],
   "source": [
    "print(\"hi hello\")\n",
    "print(\"i am using jupyter notebook\")\n",
    "4+7\n",
    "print(\"i am from gvl college\")\n",
    "6+74"
   ]
  },
  {
   "cell_type": "code",
   "execution_count": null,
   "metadata": {},
   "outputs": [],
   "source": []
  }
 ],
 "metadata": {
  "kernelspec": {
   "display_name": "Python 3",
   "language": "python",
   "name": "python3"
  },
  "language_info": {
   "codemirror_mode": {
    "name": "ipython",
    "version": 3
   },
   "file_extension": ".py",
   "mimetype": "text/x-python",
   "name": "python",
   "nbconvert_exporter": "python",
   "pygments_lexer": "ipython3",
   "version": "3.7.4"
  }
 },
 "nbformat": 4,
 "nbformat_minor": 4
}
