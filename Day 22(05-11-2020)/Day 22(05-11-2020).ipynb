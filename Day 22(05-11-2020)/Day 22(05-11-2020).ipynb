{
 "cells": [
  {
   "cell_type": "code",
   "execution_count": 17,
   "metadata": {},
   "outputs": [
    {
     "name": "stdout",
     "output_type": "stream",
     "text": [
      "21 7\n"
     ]
    }
   ],
   "source": [
    "## tables\n",
    "\n",
    "with open(\"data files/input1.txt\",\"a\") as ft:\n",
    "    p=input()\n",
    "    ft.write(p+\"\\n\")"
   ]
  },
  {
   "cell_type": "code",
   "execution_count": 10,
   "metadata": {},
   "outputs": [
    {
     "name": "stdout",
     "output_type": "stream",
     "text": [
      "5 15\n",
      "5 x 01 = 05\n",
      "\n",
      "5 x 02 = 10\n",
      "\n",
      "5 x 03 = 15\n",
      "\n",
      "5 x 04 = 20\n",
      "\n",
      "5 x 05 = 25\n",
      "\n",
      "5 x 06 = 30\n",
      "\n",
      "5 x 07 = 35\n",
      "\n",
      "5 x 08 = 40\n",
      "\n",
      "5 x 09 = 45\n",
      "\n",
      "5 x 10 = 50\n",
      "\n",
      "5 x 11 = 55\n",
      "\n",
      "5 x 12 = 60\n",
      "\n",
      "5 x 13 = 65\n",
      "\n",
      "5 x 14 = 70\n",
      "\n",
      "5 x 15 = 75\n",
      "\n"
     ]
    }
   ],
   "source": [
    "n=input().split()\n",
    "t=int(n[0])\n",
    "r=int(n[1])\n",
    "for i in range(1,r+1):\n",
    "    print(\"{} x {:02} = {:02}\".format(t,i,t*i))\n",
    "    print(end=\"\\n\")"
   ]
  },
  {
   "cell_type": "code",
   "execution_count": 13,
   "metadata": {},
   "outputs": [
    {
     "name": "stdout",
     "output_type": "stream",
     "text": [
      "['2', '10']\n",
      "['3', '5']\n",
      "['5', '15']\n"
     ]
    }
   ],
   "source": [
    "with open(\"data files/input1.txt\",\"r\") as fr:\n",
    "    r=fr.readlines()\n",
    "    for t in r:\n",
    "        y=t.split(\"\\n\")[0]\n",
    "        \n",
    "        p=y.split()\n",
    "        print(p)"
   ]
  },
  {
   "cell_type": "code",
   "execution_count": 18,
   "metadata": {},
   "outputs": [],
   "source": [
    "with open(\"data files/input1.txt\",\"r\") as fr:\n",
    "    r=fr.readlines()\n",
    "    with open(\"data files/output1.txt\",\"w\") as fp:\n",
    "        for t in r:\n",
    "            y=t.split(\"\\n\")[0]\n",
    "            p=y.split()\n",
    "            ta=int(p[0])\n",
    "            ra=int(p[1])\n",
    "            m=\"\"\n",
    "            for j in range(1,ra+1):\n",
    "                m=m+\"{} x {:02} = {:02}\".format(ta,j,ta*j)+\"\\n\"\n",
    "            fp.write(m+\"\\n\")\n",
    "        "
   ]
  },
  {
   "cell_type": "markdown",
   "metadata": {},
   "source": [
    " studentsmarks.text\n",
    "\n",
    " _________________________________________________________________\n",
    " s.no   |   name   |   maths  |  phy  |  che  | eng  | hin  | tel |\n",
    " _________________________________________________________________\n",
    " 01     |  Raju    | 42       |56     |67     |56    |78    | 72  |\n",
    "\n",
    "\n",
    " studentsgrade.txt\n",
    " _____________________________________\n",
    " s.no   |   name   |   total  |  Grade\n",
    " _____________________________________\n",
    " 01     |   suresh      ?       ?\n"
   ]
  },
  {
   "cell_type": "code",
   "execution_count": 25,
   "metadata": {},
   "outputs": [
    {
     "name": "stdout",
     "output_type": "stream",
     "text": [
      "1 John 39 47 40\n",
      "2 Jack 35 42 49\n",
      "\n"
     ]
    }
   ],
   "source": [
    "with open(\"data files/stu_marks.txt\",\"r\") as fr:\n",
    "    r=fr.read()\n",
    "    print(r)"
   ]
  },
  {
   "cell_type": "code",
   "execution_count": 24,
   "metadata": {},
   "outputs": [
    {
     "name": "stdout",
     "output_type": "stream",
     "text": [
      "2 Jack 35 42 49\n"
     ]
    }
   ],
   "source": [
    "with open(\"data files/stu_marks.txt\",\"a\") as fa:\n",
    "    p=input()\n",
    "    fa.write(p+\"\\n\")"
   ]
  },
  {
   "cell_type": "code",
   "execution_count": 26,
   "metadata": {},
   "outputs": [],
   "source": [
    "with open(\"data files/stu_marks.txt\",\"r\") as fr:\n",
    "    r=fr.readlines()\n",
    "    with open(\"data files/marks.txt\",\"w\") as fp:\n",
    "        for t in r:\n",
    "            y=t.split(\"\\n\")[0]\n",
    "            p=y.split()\n",
    "            no=int(p[0])\n",
    "            nam=p[1]\n",
    "            mat=int(p[2])\n",
    "            phy=int(p[3])\n",
    "            che=int(p[4])\n",
    "            m=\"\"\n",
    "            for j in range(1):\n",
    "                m=m+\"{} {} {} {} {}\".format(no,nam,mat,phy,che)\n",
    "            fp.write(m+\"\\n\")"
   ]
  },
  {
   "cell_type": "code",
   "execution_count": null,
   "metadata": {},
   "outputs": [],
   "source": []
  }
 ],
 "metadata": {
  "kernelspec": {
   "display_name": "Python 3",
   "language": "python",
   "name": "python3"
  },
  "language_info": {
   "codemirror_mode": {
    "name": "ipython",
    "version": 3
   },
   "file_extension": ".py",
   "mimetype": "text/x-python",
   "name": "python",
   "nbconvert_exporter": "python",
   "pygments_lexer": "ipython3",
   "version": "3.7.4"
  }
 },
 "nbformat": 4,
 "nbformat_minor": 4
}
