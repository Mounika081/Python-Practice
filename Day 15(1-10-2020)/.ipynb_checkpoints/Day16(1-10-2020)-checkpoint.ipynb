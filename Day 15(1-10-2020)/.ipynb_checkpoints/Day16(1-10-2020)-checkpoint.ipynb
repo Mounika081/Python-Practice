{
 "cells": [
  {
   "cell_type": "markdown",
   "metadata": {},
   "source": [
    "## File Handing\n",
    "- File:\n",
    "    - File is saved in some location on local system to store some information\n",
    "    - Ex: .txt, .html, .ipyb, .png, .....\n",
    "- Filehanding:\n",
    "    - Create,read,update,delete\n",
    "    - Create\n",
    "    - Open\n",
    "    - Working\n",
    "    - Close\n",
    "- File methods:\n",
    "    - open():\n",
    "        - syntax: file_obj.open(\"filename\",\"mode\")\n",
    "    - read():\n",
    "        - syntax: file_obj.read(size)\n",
    "    - write():\n",
    "        - syntax: file_obj.write(data)\n",
    "    - close():\n",
    "        - syntax: file_obj.close()\n",
    "    - readlines():\n",
    "        - syntax: file_obj.readlines()\n",
    "- Different Modes:\n",
    "    - open(\"filename\",\"mode\")\n",
    "    - open(\"filename\",\"r\")\n",
    "    - open(\"filename\",\"w\")\n",
    "    - open(\"filename\",\"a\") \n",
    "    - open(\"filename\",\"r+\")\n",
    "    - open(\"filename\",\"w+\")"
   ]
  },
  {
   "cell_type": "code",
   "execution_count": 2,
   "metadata": {},
   "outputs": [
    {
     "name": "stdout",
     "output_type": "stream",
     "text": [
      "done\n"
     ]
    }
   ],
   "source": [
    "# creatng a file \n",
    "f=open(\"file.txt\",\"w\")\n",
    "data=\"Welcome to python internship program\"\n",
    "f.write(data)\n",
    "print(\"Done\")\n",
    "f.close()"
   ]
  },
  {
   "cell_type": "code",
   "execution_count": null,
   "metadata": {},
   "outputs": [],
   "source": [
    "# creatng a file \n",
    "f=open(\"file.txt\",\"w\")\n",
    "data=\"Welcome to python internship program\"\n",
    "f.write(data)\n",
    "print(\"Done\")\n",
    "f.close()"
   ]
  }
 ],
 "metadata": {
  "kernelspec": {
   "display_name": "Python 3",
   "language": "python",
   "name": "python3"
  },
  "language_info": {
   "codemirror_mode": {
    "name": "ipython",
    "version": 3
   },
   "file_extension": ".py",
   "mimetype": "text/x-python",
   "name": "python",
   "nbconvert_exporter": "python",
   "pygments_lexer": "ipython3",
   "version": "3.7.4"
  }
 },
 "nbformat": 4,
 "nbformat_minor": 4
}
