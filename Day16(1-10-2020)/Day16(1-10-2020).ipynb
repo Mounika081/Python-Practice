{
 "cells": [
  {
   "cell_type": "markdown",
   "metadata": {},
   "source": [
    "## File Handing\n",
    "- File:\n",
    "    - File is saved in some location on local system to store some information\n",
    "    - Ex: .txt, .html, .ipyb, .png, .....\n",
    "- Filehanding:\n",
    "    - Create,read,update,delete\n",
    "    - Create\n",
    "    - Open\n",
    "    - Working\n",
    "    - Close\n",
    "- File methods:\n",
    "    - open():\n",
    "        - syntax: file_obj.open(\"filename\",\"mode\")\n",
    "    - read():\n",
    "        - syntax: file_obj.read(size)\n",
    "    - write():\n",
    "        - syntax: file_obj.write(data)\n",
    "    - close():\n",
    "        - syntax: file_obj.close()\n",
    "    - readlines():\n",
    "        - syntax: file_obj.readlines()\n",
    "- Different Modes:\n",
    "    - open(\"filename\",\"mode\")\n",
    "    - open(\"filename\",\"r\")\n",
    "    - open(\"filename\",\"w\")\n",
    "    - open(\"filename\",\"a\") \n",
    "    - open(\"filename\",\"r+\")\n",
    "    - open(\"filename\",\"w+\")"
   ]
  },
  {
   "cell_type": "code",
   "execution_count": 27,
   "metadata": {},
   "outputs": [
    {
     "name": "stdout",
     "output_type": "stream",
     "text": [
      "Done\n"
     ]
    }
   ],
   "source": [
    "# creatng a file \n",
    "f=open(\"file.txt\",\"w\")\n",
    "data=\"Welcome to python internship program\"\n",
    "f.write(data)\n",
    "print(\"Done\")\n",
    "f.close()"
   ]
  },
  {
   "cell_type": "code",
   "execution_count": 28,
   "metadata": {},
   "outputs": [
    {
     "name": "stdout",
     "output_type": "stream",
     "text": [
      "Welcome to python internship program\n"
     ]
    }
   ],
   "source": [
    "# reading a file \n",
    "file=open(\"file.txt\",\"r\")\n",
    "data1=file.read()\n",
    "print(data1)\n",
    "file.close()"
   ]
  },
  {
   "cell_type": "code",
   "execution_count": 29,
   "metadata": {},
   "outputs": [
    {
     "name": "stdout",
     "output_type": "stream",
     "text": [
      "Done\n"
     ]
    }
   ],
   "source": [
    "# Appending data\n",
    "f=open(\"file.txt\",\"a\")\n",
    "data=\"\\n\"+\"Hello everyone\"\n",
    "f.write(data)\n",
    "print(\"Done\")\n",
    "f.close()"
   ]
  },
  {
   "cell_type": "code",
   "execution_count": 30,
   "metadata": {},
   "outputs": [
    {
     "name": "stdout",
     "output_type": "stream",
     "text": [
      "Welcome to python internship program\n",
      "Hello everyone\n"
     ]
    }
   ],
   "source": [
    "# reading a file \n",
    "file=open(\"file.txt\",\"r\")\n",
    "data1=file.read()\n",
    "print(data1)\n",
    "file.close()"
   ]
  },
  {
   "cell_type": "code",
   "execution_count": 31,
   "metadata": {},
   "outputs": [
    {
     "name": "stdout",
     "output_type": "stream",
     "text": [
      "Welcome to python internship program\n",
      "Hello everyone\n"
     ]
    }
   ],
   "source": [
    "with open(\"file.txt\",\"r\")as file:\n",
    "    data=file.read()\n",
    "    print(data)"
   ]
  },
  {
   "cell_type": "code",
   "execution_count": 32,
   "metadata": {},
   "outputs": [
    {
     "name": "stdout",
     "output_type": "stream",
     "text": [
      "Enter some data : Apssdc is conducting online workshops\n",
      "completed....................\n"
     ]
    }
   ],
   "source": [
    "file=open(\"file2.txt\",\"w\")\n",
    "file.write(input(\"Enter some data : \"))\n",
    "print(\"completed\"+(\".\"*20))\n",
    "file.close()"
   ]
  },
  {
   "cell_type": "code",
   "execution_count": 33,
   "metadata": {},
   "outputs": [
    {
     "name": "stdout",
     "output_type": "stream",
     "text": [
      "\tHello World\n"
     ]
    }
   ],
   "source": [
    "#\\ replace with \\\\\n",
    "#\\ replace with /\n",
    "#r--> rawpath or raw location,r\"D\\\"   \n",
    "f=open(\"E:\\\\sample.txt\",\"r\") # filelocation\\filename.txt\n",
    "d=f.read()\n",
    "print(d)\n",
    "f.close()"
   ]
  },
  {
   "cell_type": "markdown",
   "metadata": {},
   "source": [
    "- File objective methods\n",
    "    - seek()\n",
    "        - used to change the cursor position\n",
    "    - tell()\n",
    "        - used to know the cursor position"
   ]
  },
  {
   "cell_type": "code",
   "execution_count": 34,
   "metadata": {},
   "outputs": [
    {
     "name": "stdout",
     "output_type": "stream",
     "text": [
      "11\n",
      "Welcome to \n",
      "20\n"
     ]
    }
   ],
   "source": [
    "f=open(\"file.txt\",\"r\")\n",
    "data=f.read(11)\n",
    "print(f.tell())\n",
    "print(data)\n",
    "f.seek(20)\n",
    "print(f.tell())\n",
    "f.close()"
   ]
  },
  {
   "cell_type": "code",
   "execution_count": 59,
   "metadata": {},
   "outputs": [
    {
     "name": "stdout",
     "output_type": "stream",
     "text": [
      "enoyreve olleH\n",
      "margorp pihsnretni nohtyp ot emocleW\n"
     ]
    }
   ],
   "source": [
    "# Task:Read the data in reverse order\n",
    "with open(\"file.txt\",\"r\")as file:\n",
    "    data=file.read()\n",
    "    print(data[::-1])"
   ]
  },
  {
   "cell_type": "code",
   "execution_count": 60,
   "metadata": {},
   "outputs": [
    {
     "name": "stdout",
     "output_type": "stream",
     "text": [
      "['Welcome to python internship program\\n', 'Hello everyone']\n"
     ]
    }
   ],
   "source": [
    "with open(\"file.txt\",\"r\")as file:\n",
    "    data=file.readlines()\n",
    "    print(data)"
   ]
  },
  {
   "cell_type": "code",
   "execution_count": 61,
   "metadata": {},
   "outputs": [
    {
     "name": "stdout",
     "output_type": "stream",
     "text": [
      "Welcome to python internship program\n",
      "\n",
      "Hello everyone\n"
     ]
    }
   ],
   "source": [
    "with open(\"file.txt\",\"r\")as file:\n",
    "    data=file.readlines()\n",
    "    for i in data:\n",
    "        print(i)"
   ]
  },
  {
   "cell_type": "code",
   "execution_count": 82,
   "metadata": {},
   "outputs": [
    {
     "name": "stdout",
     "output_type": "stream",
     "text": [
      "['Welcome to python internship program\\n', 'Hello everyone']\n",
      "['Welcome', 'to', 'python', 'internship', 'program\\n']\n",
      "word count: 5\n",
      "['Hello', 'everyone']\n",
      "word count: 2\n"
     ]
    }
   ],
   "source": [
    "# split the data and find the word count in each line\n",
    "with open(\"file.txt\",\"r\")as file:\n",
    "    data=file.readlines()\n",
    "    print(data)\n",
    "    for lines in data:\n",
    "        words=lines.split(\" \")\n",
    "        print(words)\n",
    "        print(\"word count:\",len(words))"
   ]
  },
  {
   "cell_type": "code",
   "execution_count": 86,
   "metadata": {},
   "outputs": [
    {
     "name": "stdout",
     "output_type": "stream",
     "text": [
      "W\n",
      "e\n",
      "l\n",
      "c\n",
      "o\n",
      "m\n",
      "e\n",
      " \n",
      "t\n",
      "o\n",
      " \n",
      "p\n",
      "y\n",
      "t\n",
      "h\n",
      "o\n",
      "n\n",
      " \n",
      "i\n",
      "n\n",
      "t\n",
      "e\n",
      "r\n",
      "n\n",
      "s\n",
      "h\n",
      "i\n",
      "p\n",
      " \n",
      "p\n",
      "r\n",
      "o\n",
      "g\n",
      "r\n",
      "a\n",
      "m\n",
      "\n",
      "\n",
      "H\n",
      "e\n",
      "l\n",
      "l\n",
      "o\n",
      " \n",
      "e\n",
      "v\n",
      "e\n",
      "r\n",
      "y\n",
      "o\n",
      "n\n",
      "e\n"
     ]
    }
   ],
   "source": [
    "with open(\"file.txt\",\"r\")as file:\n",
    "    data=file.read()\n",
    "    for ele in data:\n",
    "        print(ele)"
   ]
  },
  {
   "cell_type": "code",
   "execution_count": 104,
   "metadata": {},
   "outputs": [
    {
     "name": "stdout",
     "output_type": "stream",
     "text": [
      "Welcome ->: 7\n",
      "to ->: 2\n",
      "python ->: 6\n",
      "internship ->: 10\n",
      "program\n",
      " ->: 8\n",
      "Hello ->: 5\n",
      "everyone ->: 8\n"
     ]
    }
   ],
   "source": [
    "# find the lenth of each word\n",
    "with open(\"file.txt\",\"r\")as file:\n",
    "    data=file.readlines()\n",
    "    for lines in data:\n",
    "        words=lines.split(\" \")\n",
    "        for ele in words:\n",
    "            print(ele,\"->:\",len(ele))"
   ]
  },
  {
   "cell_type": "code",
   "execution_count": 13,
   "metadata": {},
   "outputs": [
    {
     "name": "stdout",
     "output_type": "stream",
     "text": [
      "['Welcome to python internship program\\n', 'Hello everyone']\n",
      "['Welcome', 'to', 'python', 'internship', 'program\\n']\n",
      "['Hello', 'everyone']\n"
     ]
    },
    {
     "data": {
      "text/plain": [
       "{'Welcome': 1,\n",
       " 'to': 1,\n",
       " 'python': 1,\n",
       " 'internship': 1,\n",
       " 'program\\n': 1,\n",
       " 'Hello': 1,\n",
       " 'everyone': 1}"
      ]
     },
     "execution_count": 13,
     "metadata": {},
     "output_type": "execute_result"
    }
   ],
   "source": [
    "# find out frequency of each word\n",
    "w={}\n",
    "with open(\"file.txt\",\"r\")as file:\n",
    "    data=file.readlines()\n",
    "    print(data)\n",
    "    for lines in data:\n",
    "        words=lines.split(\" \")\n",
    "        print(words)\n",
    "        for i in words:    \n",
    "            w[i]=words.count(i)\n",
    "w"
   ]
  },
  {
   "cell_type": "code",
   "execution_count": null,
   "metadata": {},
   "outputs": [],
   "source": []
  }
 ],
 "metadata": {
  "kernelspec": {
   "display_name": "Python 3",
   "language": "python",
   "name": "python3"
  },
  "language_info": {
   "codemirror_mode": {
    "name": "ipython",
    "version": 3
   },
   "file_extension": ".py",
   "mimetype": "text/x-python",
   "name": "python",
   "nbconvert_exporter": "python",
   "pygments_lexer": "ipython3",
   "version": "3.7.4"
  }
 },
 "nbformat": 4,
 "nbformat_minor": 4
}
