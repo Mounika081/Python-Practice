{
 "cells": [
  {
   "cell_type": "code",
   "execution_count": 1,
   "metadata": {},
   "outputs": [],
   "source": [
    "# Dynamic list creation\n",
    "# li=[] or li=list()\n",
    "# input:Enter a range:5\n",
    "#[1,2,3,4,67]"
   ]
  },
  {
   "cell_type": "code",
   "execution_count": 8,
   "metadata": {},
   "outputs": [
    {
     "name": "stdout",
     "output_type": "stream",
     "text": [
      "enter a range3\n",
      "enter a value56\n",
      "enter a value78\n",
      "enter a value98\n",
      "[56, 78, 98]\n"
     ]
    }
   ],
   "source": [
    "li=[]\n",
    "n=int(input(\"enter a range\"))\n",
    "for i in range(n):\n",
    "    val=int(input(\"enter a value\"))\n",
    "    li.append(val)\n",
    "print(li)    "
   ]
  },
  {
   "cell_type": "code",
   "execution_count": 4,
   "metadata": {},
   "outputs": [
    {
     "name": "stdout",
     "output_type": "stream",
     "text": [
      "[12, 34, 44, 456, 232]\n",
      "778\n"
     ]
    }
   ],
   "source": [
    "li=[12,34,44,55,75,23,456,232]\n",
    "#output:[12,34,44,456,232]\n",
    "# print sum([12,34,44,456,232])\n",
    "eli=[]\n",
    "for val in li:\n",
    "    if val%2==0:\n",
    "        eli.append(val)\n",
    "print(eli)\n",
    "print(sum(eli))\n"
   ]
  },
  {
   "cell_type": "code",
   "execution_count": 10,
   "metadata": {},
   "outputs": [
    {
     "name": "stdout",
     "output_type": "stream",
     "text": [
      "[11, 22, 25, 33, 36]\n"
     ]
    }
   ],
   "source": [
    "## Remove the dublicate elements in the list\n",
    "# ex:[11,22,11,25,33,36,11,25]\n",
    "# [11,22,25,33,36]\n",
    "li=[11,22,11,25,33,36,11,25]\n",
    "l2=[]\n",
    "for i in li:\n",
    "    if i not in l2:\n",
    "        l2.append(i)\n",
    "print(l2)"
   ]
  },
  {
   "cell_type": "code",
   "execution_count": 28,
   "metadata": {},
   "outputs": [
    {
     "data": {
      "text/plain": [
       "[2, 4, 6, 8, 9, 7, 5, 3, 1]"
      ]
     },
     "execution_count": 28,
     "metadata": {},
     "output_type": "execute_result"
    }
   ],
   "source": [
    "# print the even numbers in ascending order\n",
    "# print the ood numbers in descending order\n",
    "#i/p: [1,2,3,4,5,6,7,8,9]\n",
    "# o/p: [2,4,6,8,9,7,5,3,1]\n",
    "li=[1,2,3,4,5,6,7,8,9]\n",
    "l2=[]\n",
    "l3=[]\n",
    "for i in li:\n",
    "    if i%2==0:\n",
    "        l2.append(i)\n",
    "    else:\n",
    "        l3.append(i)      \n",
    "l2+l3[::-1]"
   ]
  },
  {
   "cell_type": "code",
   "execution_count": 32,
   "metadata": {},
   "outputs": [
    {
     "data": {
      "text/plain": [
       "[9, 7, 5, 3, 1]"
      ]
     },
     "execution_count": 32,
     "metadata": {},
     "output_type": "execute_result"
    }
   ],
   "source": [
    "l3.reverse()\n",
    "l3"
   ]
  },
  {
   "cell_type": "code",
   "execution_count": 34,
   "metadata": {},
   "outputs": [
    {
     "data": {
      "text/plain": [
       "[2, 4, 6, 8, 9, 7, 5, 3, 1]"
      ]
     },
     "execution_count": 34,
     "metadata": {},
     "output_type": "execute_result"
    }
   ],
   "source": [
    "l2+l3"
   ]
  },
  {
   "cell_type": "code",
   "execution_count": 37,
   "metadata": {},
   "outputs": [],
   "source": [
    "# print the minimum value and second minimum in a list\n",
    "#[10,2,23,5,60]\n",
    "li=[10,2,23,5,60]\n",
    "li.sort()"
   ]
  },
  {
   "cell_type": "code",
   "execution_count": 38,
   "metadata": {},
   "outputs": [
    {
     "name": "stdout",
     "output_type": "stream",
     "text": [
      "min value is  2\n",
      "secon min value is  5\n"
     ]
    }
   ],
   "source": [
    "print(\"Min value is \",li[0])\n",
    "print(\"secon min value is \",li[1])"
   ]
  },
  {
   "cell_type": "code",
   "execution_count": null,
   "metadata": {},
   "outputs": [],
   "source": []
  }
 ],
 "metadata": {
  "kernelspec": {
   "display_name": "Python 3",
   "language": "python",
   "name": "python3"
  },
  "language_info": {
   "codemirror_mode": {
    "name": "ipython",
    "version": 3
   },
   "file_extension": ".py",
   "mimetype": "text/x-python",
   "name": "python",
   "nbconvert_exporter": "python",
   "pygments_lexer": "ipython3",
   "version": "3.7.4"
  }
 },
 "nbformat": 4,
 "nbformat_minor": 4
}
