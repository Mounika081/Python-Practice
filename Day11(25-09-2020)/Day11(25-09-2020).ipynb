{
 "cells": [
  {
   "cell_type": "code",
   "execution_count": 5,
   "metadata": {},
   "outputs": [
    {
     "name": "stdout",
     "output_type": "stream",
     "text": [
      "\n",
      "None\n"
     ]
    }
   ],
   "source": [
    "def swap_case():\n",
    "    return\n",
    "s=input()\n",
    "print(swap_case())"
   ]
  },
  {
   "cell_type": "code",
   "execution_count": 7,
   "metadata": {},
   "outputs": [
    {
     "name": "stdout",
     "output_type": "stream",
     "text": [
      "hackerrank.com presents 'pythonist 2'.\n",
      "Hackerrank.com presents 'pythonist 2'.\n",
      "Hackerrank.Com Presents 'Pythonist 2'.\n",
      "None\n"
     ]
    }
   ],
   "source": [
    "p = \"HackerRank.com presents 'Pythonist 2'.\"\n",
    "print(p.lower())\n",
    "print(p.capitalize())\n",
    "print(p.title())\n",
    "print(swap_case())"
   ]
  },
  {
   "cell_type": "code",
   "execution_count": 8,
   "metadata": {},
   "outputs": [
    {
     "name": "stdout",
     "output_type": "stream",
     "text": [
      "['__add__', '__class__', '__contains__', '__delattr__', '__dir__', '__doc__', '__eq__', '__format__', '__ge__', '__getattribute__', '__getitem__', '__getnewargs__', '__gt__', '__hash__', '__init__', '__init_subclass__', '__iter__', '__le__', '__len__', '__lt__', '__mod__', '__mul__', '__ne__', '__new__', '__reduce__', '__reduce_ex__', '__repr__', '__rmod__', '__rmul__', '__setattr__', '__sizeof__', '__str__', '__subclasshook__', 'capitalize', 'casefold', 'center', 'count', 'encode', 'endswith', 'expandtabs', 'find', 'format', 'format_map', 'index', 'isalnum', 'isalpha', 'isascii', 'isdecimal', 'isdigit', 'isidentifier', 'islower', 'isnumeric', 'isprintable', 'isspace', 'istitle', 'isupper', 'join', 'ljust', 'lower', 'lstrip', 'maketrans', 'partition', 'replace', 'rfind', 'rindex', 'rjust', 'rpartition', 'rsplit', 'rstrip', 'split', 'splitlines', 'startswith', 'strip', 'swapcase', 'title', 'translate', 'upper', 'zfill']\n"
     ]
    }
   ],
   "source": [
    "print(dir(str))\n"
   ]
  },
  {
   "cell_type": "code",
   "execution_count": 9,
   "metadata": {},
   "outputs": [
    {
     "name": "stdout",
     "output_type": "stream",
     "text": [
      "['this', 'is', 'sample', 'example']\n"
     ]
    }
   ],
   "source": [
    "a=\"this is sample example\"\n",
    "w=a.split()\n",
    "print(w)"
   ]
  },
  {
   "cell_type": "code",
   "execution_count": 10,
   "metadata": {},
   "outputs": [
    {
     "name": "stdout",
     "output_type": "stream",
     "text": [
      " \n",
      "['korra', 'Mounika']\n"
     ]
    }
   ],
   "source": [
    "r = \"korra Mounika\"\n",
    "n = input()\n",
    "c = r.split(n)\n",
    "print(c)"
   ]
  },
  {
   "cell_type": "code",
   "execution_count": 11,
   "metadata": {},
   "outputs": [
    {
     "name": "stdout",
     "output_type": "stream",
     "text": [
      "s@%Y&q\n",
      "s@%Y&q\n",
      "s@%Y&q\n"
     ]
    }
   ],
   "source": [
    "y = \"asr@R%qYd&uq\"\n",
    "for i in (y,1,' @ '):\n",
    "    print(y[1::2])"
   ]
  },
  {
   "cell_type": "code",
   "execution_count": 14,
   "metadata": {},
   "outputs": [
    {
     "name": "stdout",
     "output_type": "stream",
     "text": [
      "a s r @ R % q Y d & u q "
     ]
    }
   ],
   "source": [
    "def oddpc(t):\n",
    "    e = \" \"\n",
    "    print(\"Odd place position characters are: \",end=\" \")\n",
    "    for l in range(len(t)):\n",
    "        if l%2!=0:\n",
    "            e+=t[l]+\" \"\n",
    "    return e\n",
    "def evenpc(y):\n",
    "    u = \" \"\n",
    "    print(\"\\nEven place position characters are: \",end=\" \")\n",
    "    for l in range(len(y)):\n",
    "        if l%2!=0:\n",
    "            u+=y[l]+\" \"\n",
    "    return u   \n",
    "def spch(d):\n",
    "    u,l,i,s = \"\",\"\",\"\",\"\"\n",
    "    for v in d:\n",
    "        print(v,end=\" \")\n",
    "    if v.islower():\n",
    "        l+=v+\" \"\n",
    "    elif v.isdecimal():\n",
    "        i+=v+\" \"\n",
    "        \n",
    "m = \"asr@R%qYd&uq\" \n",
    "spch(m)\n",
    "# q = oddpc(m)\n",
    "# for b in q:\n",
    "#     print(b,end=\" \")\n",
    "# z = evenpc(m)\n",
    "# for x in z:\n",
    "#     print(x,end=\" \")\n",
    "# print(\"\\nOdd place position character count is :{}\".formate(len(q)))  "
   ]
  },
  {
   "cell_type": "code",
   "execution_count": null,
   "metadata": {},
   "outputs": [],
   "source": []
  }
 ],
 "metadata": {
  "kernelspec": {
   "display_name": "Python 3",
   "language": "python",
   "name": "python3"
  },
  "language_info": {
   "codemirror_mode": {
    "name": "ipython",
    "version": 3
   },
   "file_extension": ".py",
   "mimetype": "text/x-python",
   "name": "python",
   "nbconvert_exporter": "python",
   "pygments_lexer": "ipython3",
   "version": "3.7.4"
  }
 },
 "nbformat": 4,
 "nbformat_minor": 4
}
